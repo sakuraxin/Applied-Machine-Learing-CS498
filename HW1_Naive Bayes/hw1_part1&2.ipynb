{
 "cells": [
  {
   "cell_type": "markdown",
   "metadata": {},
   "source": [
    "# Part 1 Accuracies"
   ]
  },
  {
   "cell_type": "markdown",
   "metadata": {},
   "source": [
    "|  Setup \t|   Cross_validation Accuracy\t|\n",
    "|---\t|---\t|\n",
    "|  Unprocessed data \t|   75.45%\t|\n",
    "|   0-value elements ignored\t|   75.83%\t|"
   ]
  },
  {
   "cell_type": "markdown",
   "metadata": {},
   "source": [
    "## part 1A"
   ]
  },
  {
   "cell_type": "code",
   "execution_count": 1,
   "metadata": {},
   "outputs": [
    {
     "data": {
      "text/html": [
       "<div>\n",
       "<style scoped>\n",
       "    .dataframe tbody tr th:only-of-type {\n",
       "        vertical-align: middle;\n",
       "    }\n",
       "\n",
       "    .dataframe tbody tr th {\n",
       "        vertical-align: top;\n",
       "    }\n",
       "\n",
       "    .dataframe thead th {\n",
       "        text-align: right;\n",
       "    }\n",
       "</style>\n",
       "<table border=\"1\" class=\"dataframe\">\n",
       "  <thead>\n",
       "    <tr style=\"text-align: right;\">\n",
       "      <th></th>\n",
       "      <th>preg</th>\n",
       "      <th>plas</th>\n",
       "      <th>pres</th>\n",
       "      <th>skin</th>\n",
       "      <th>test</th>\n",
       "      <th>mass</th>\n",
       "      <th>pedi</th>\n",
       "      <th>age</th>\n",
       "      <th>class</th>\n",
       "    </tr>\n",
       "  </thead>\n",
       "  <tbody>\n",
       "    <tr>\n",
       "      <th>0</th>\n",
       "      <td>6</td>\n",
       "      <td>148</td>\n",
       "      <td>72</td>\n",
       "      <td>35</td>\n",
       "      <td>0</td>\n",
       "      <td>33.6</td>\n",
       "      <td>0.627</td>\n",
       "      <td>50</td>\n",
       "      <td>1</td>\n",
       "    </tr>\n",
       "    <tr>\n",
       "      <th>1</th>\n",
       "      <td>1</td>\n",
       "      <td>85</td>\n",
       "      <td>66</td>\n",
       "      <td>29</td>\n",
       "      <td>0</td>\n",
       "      <td>26.6</td>\n",
       "      <td>0.351</td>\n",
       "      <td>31</td>\n",
       "      <td>0</td>\n",
       "    </tr>\n",
       "    <tr>\n",
       "      <th>2</th>\n",
       "      <td>8</td>\n",
       "      <td>183</td>\n",
       "      <td>64</td>\n",
       "      <td>0</td>\n",
       "      <td>0</td>\n",
       "      <td>23.3</td>\n",
       "      <td>0.672</td>\n",
       "      <td>32</td>\n",
       "      <td>1</td>\n",
       "    </tr>\n",
       "    <tr>\n",
       "      <th>3</th>\n",
       "      <td>1</td>\n",
       "      <td>89</td>\n",
       "      <td>66</td>\n",
       "      <td>23</td>\n",
       "      <td>94</td>\n",
       "      <td>28.1</td>\n",
       "      <td>0.167</td>\n",
       "      <td>21</td>\n",
       "      <td>0</td>\n",
       "    </tr>\n",
       "    <tr>\n",
       "      <th>4</th>\n",
       "      <td>0</td>\n",
       "      <td>137</td>\n",
       "      <td>40</td>\n",
       "      <td>35</td>\n",
       "      <td>168</td>\n",
       "      <td>43.1</td>\n",
       "      <td>2.288</td>\n",
       "      <td>33</td>\n",
       "      <td>1</td>\n",
       "    </tr>\n",
       "  </tbody>\n",
       "</table>\n",
       "</div>"
      ],
      "text/plain": [
       "   preg  plas  pres  skin  test  mass   pedi  age  class\n",
       "0     6   148    72    35     0  33.6  0.627   50      1\n",
       "1     1    85    66    29     0  26.6  0.351   31      0\n",
       "2     8   183    64     0     0  23.3  0.672   32      1\n",
       "3     1    89    66    23    94  28.1  0.167   21      0\n",
       "4     0   137    40    35   168  43.1  2.288   33      1"
      ]
     },
     "execution_count": 1,
     "metadata": {},
     "output_type": "execute_result"
    }
   ],
   "source": [
    "import pandas as pd\n",
    "import numpy as np\n",
    "df = pd.read_csv('pima-indians-diabetes.csv', header = None, names = \n",
    "                 ['preg', 'plas', 'pres', 'skin', 'test', 'mass', 'pedi', 'age', 'class'])\n",
    "df.head()"
   ]
  },
  {
   "cell_type": "code",
   "execution_count": 2,
   "metadata": {},
   "outputs": [
    {
     "data": {
      "text/plain": [
       "(768, 9)"
      ]
     },
     "execution_count": 2,
     "metadata": {},
     "output_type": "execute_result"
    }
   ],
   "source": [
    "df.shape"
   ]
  },
  {
   "cell_type": "code",
   "execution_count": 3,
   "metadata": {},
   "outputs": [],
   "source": [
    "import random\n",
    "def train_test_split(dataset, ratio):\n",
    "    data = dataset.values\n",
    "    random.shuffle(data)\n",
    "    size = len(data)\n",
    "    train_size = int(size * (1 - ratio))\n",
    "    train_data = data[:train_size, :]\n",
    "    test_data = data[train_size:, :]\n",
    "    train = pd.DataFrame(train_data, index = None, \n",
    "                         columns = ['preg', 'plas', 'pres', 'skin', 'test', 'mass', 'pedi', 'age', 'class'])\n",
    "    test = pd.DataFrame(test_data, index = None, \n",
    "                        columns = ['preg', 'plas', 'pres', 'skin', 'test', 'mass', 'pedi', 'age', 'class'])\n",
    "    train[['preg', 'plas', 'pres', 'skin', 'test', 'age', 'class']] =  train[['preg', \n",
    "                                                'plas', 'pres', 'skin', 'test', 'age', 'class']].astype(int)\n",
    "    test[['preg', 'plas', 'pres', 'skin', 'test', 'age', 'class']] = test[['preg', \n",
    "                                                'plas', 'pres', 'skin', 'test', 'age', 'class']].astype(int)\n",
    "    return train, test"
   ]
  },
  {
   "cell_type": "code",
   "execution_count": 4,
   "metadata": {},
   "outputs": [],
   "source": [
    "def norm_prob(x, mean_y, var_y): ### var = stdv**2\n",
    "    ###return P(x|y)\n",
    "    tmp = np.exp(-(x - mean_y) ** 2 / (2 * var_y))\n",
    "    return 1 / ((2 * np.pi * var_y) ** 0.5) * tmp"
   ]
  },
  {
   "cell_type": "code",
   "execution_count": 5,
   "metadata": {},
   "outputs": [],
   "source": [
    "def class_prob(xi, data):\n",
    "    ###return class probability\n",
    "    prob = {0: 1, 1: 1}\n",
    "    for i in range(len(xi) - 1): ### xi needs to drop column('class')\n",
    "        ###P(xi|y) = P(x0|y) * P(x1|y)*...\n",
    "        prob[0] = prob[0] * norm_prob(xi[i], data['mean_y'].iloc[0][i], data['var_y'].iloc[0][i])\n",
    "        prob[1] = prob[1] * norm_prob(xi[i], data['mean_y'].iloc[1][i], data['var_y'].iloc[1][i])\n",
    "    prob[0] *= data['pt']\n",
    "    prob[1] *= data['pn']\n",
    "    return prob\n",
    "def classify(xi, data):\n",
    "    prob = class_prob(xi, data)\n",
    "    return 0 if prob[0] > prob[1] else 1"
   ]
  },
  {
   "cell_type": "code",
   "execution_count": 6,
   "metadata": {},
   "outputs": [],
   "source": [
    "def NBclassifier(dataset, ratio):\n",
    "    accu_list = []\n",
    "    for i in range(10):\n",
    "        train, test = train_test_split(dataset, ratio)\n",
    "        class_1 = train['class'][train['class'] == 1].count()\n",
    "        class_0 = train['class'][train['class'] == 0].count()\n",
    "        class_total = train.shape[0]\n",
    "        pn = class_1 / float(class_total) ##1:negtaive\n",
    "        pt = class_0 / float(class_total) ## 0: positive\n",
    "        mean_y = train.groupby('class').mean()\n",
    "        var_y = train.groupby('class').var()\n",
    "        ##std_y = train.groupby('class').std() \n",
    "        cor = 0\n",
    "        for i, j in test.iterrows():\n",
    "            result = classify(j, {'mean_y': mean_y, 'var_y': var_y, 'pn':pn, 'pt':pt})\n",
    "            if bool(result) == bool(j['class']):\n",
    "                cor += 1\n",
    "        accu_list.append(cor / float(test.shape[0]))\n",
    "    accuracy = np.sum(accu_list) / 10.0\n",
    "    return accuracy"
   ]
  },
  {
   "cell_type": "code",
   "execution_count": 7,
   "metadata": {},
   "outputs": [
    {
     "name": "stdout",
     "output_type": "stream",
     "text": [
      "The estimate of accuracy of the classifier is 75.84%\n"
     ]
    }
   ],
   "source": [
    "accuracy = NBclassifier(df, 0.2)\n",
    "print('The estimate of accuracy of the classifier is %.2f' %(accuracy * 100) + '%')"
   ]
  },
  {
   "cell_type": "markdown",
   "metadata": {},
   "source": [
    "## part 1B"
   ]
  },
  {
   "cell_type": "code",
   "execution_count": 8,
   "metadata": {},
   "outputs": [
    {
     "data": {
      "text/plain": [
       "(537, 9)"
      ]
     },
     "execution_count": 8,
     "metadata": {},
     "output_type": "execute_result"
    }
   ],
   "source": [
    "df_B = pd.read_csv('pima-indians-diabetes.csv', header = None, \n",
    "                   names = ['preg', 'plas', 'pres', 'skin', 'test', 'mass', 'pedi', 'age', 'class'])\n",
    "df_B[['pres', 'skin', 'mass', 'age']] = df_B[['pres', 'skin', 'mass', 'age']].replace(0, np.NaN)\n",
    "df_B = df_B.dropna()\n",
    "df_B.head()\n",
    "df_B.shape"
   ]
  },
  {
   "cell_type": "code",
   "execution_count": 9,
   "metadata": {},
   "outputs": [],
   "source": [
    "accuracy_B = NBclassifier(df_B, 0.2)"
   ]
  },
  {
   "cell_type": "code",
   "execution_count": 10,
   "metadata": {},
   "outputs": [
    {
     "name": "stdout",
     "output_type": "stream",
     "text": [
      "The estimate of accuracy of the modified classifier by is 78.06%\n"
     ]
    }
   ],
   "source": [
    "print('The estimate of accuracy of the modified classifier by is %.2f' %(accuracy_B * 100) + '%')"
   ]
  },
  {
   "cell_type": "markdown",
   "metadata": {},
   "source": [
    "# Part 2 MNIST Accuracies"
   ]
  },
  {
   "cell_type": "code",
   "execution_count": 11,
   "metadata": {},
   "outputs": [],
   "source": [
    "import mnist\n",
    "train_x = mnist.train_images()\n",
    "train_y = mnist.train_labels()\n",
    "\n",
    "test_x = mnist.test_images()\n",
    "test_y = mnist.test_labels()"
   ]
  },
  {
   "cell_type": "code",
   "execution_count": 12,
   "metadata": {},
   "outputs": [],
   "source": [
    "train_x = train_x.reshape((train_x.shape[0], train_x.shape[1] * train_x.shape[2]))\n",
    "test_x = test_x.reshape((test_x.shape[0], test_x.shape[1] * test_x.shape[2]))"
   ]
  },
  {
   "cell_type": "code",
   "execution_count": 13,
   "metadata": {},
   "outputs": [],
   "source": [
    "#from mnist import MNIST\n",
    "#mndata = MNIST('/Users/xinqu/Sandbox/CS498 Applied Machine Learning/HW/HW1/python-mnist/data')\n",
    "#train_x, train_y = mndata.load_training()\n",
    "#test_x, test_y = mndata.load_testing()"
   ]
  },
  {
   "cell_type": "code",
   "execution_count": 14,
   "metadata": {},
   "outputs": [],
   "source": [
    "from sklearn.naive_bayes import GaussianNB\n",
    "from sklearn.naive_bayes import BernoulliNB\n",
    "from sklearn.metrics import accuracy_score\n",
    "import matplotlib.pyplot as plt"
   ]
  },
  {
   "cell_type": "code",
   "execution_count": 15,
   "metadata": {},
   "outputs": [],
   "source": [
    "from skimage.transform import resize\n",
    "def crop_image(x):\n",
    "    hor_max, ver_max = np.max(np.where(x != 0), 1)\n",
    "    hor_min, ver_min = np.min(np.where(x != 0), 1)\n",
    "    bound = x[hor_min: hor_max, ver_min: ver_max]\n",
    "    resize_x = resize(bound, (20, 20), mode = 'constant')\n",
    "    return resize_x"
   ]
  },
  {
   "cell_type": "code",
   "execution_count": 16,
   "metadata": {},
   "outputs": [],
   "source": [
    "def threshold(x):\n",
    "    y = x.copy()\n",
    "    grey_y = y[y > 0]  ## remove 0 pixel\n",
    "    mid_grey = sum(grey_y) / len(grey_y)\n",
    "    y[y < mid_grey] = 0\n",
    "    y[y > 0] = 1\n",
    "    return y"
   ]
  },
  {
   "cell_type": "code",
   "execution_count": 17,
   "metadata": {},
   "outputs": [],
   "source": [
    "import numpy as np\n",
    "train_x = np.array(train_x).astype(np.uint8)\n",
    "train_y = np.array(train_y).astype(np.uint8)\n",
    "test_x = np.array(test_x).astype(np.uint8)\n",
    "test_y = np.array(test_y).astype(np.uint8)"
   ]
  },
  {
   "cell_type": "code",
   "execution_count": 18,
   "metadata": {},
   "outputs": [],
   "source": [
    "##untouched image\n",
    "###threshold pixel\n",
    "train_x_thre = []\n",
    "for x in train_x:\n",
    "    train_x_thre.append(x)\n",
    "train_x_thre = np.array([threshold(x) for x in train_x_thre])\n",
    "test_x_thre = []\n",
    "for x in test_x:\n",
    "    test_x_thre.append(x)\n",
    "test_x_thre = np.array([threshold(x) for x in test_x_thre])"
   ]
  },
  {
   "cell_type": "code",
   "execution_count": 19,
   "metadata": {},
   "outputs": [
    {
     "name": "stderr",
     "output_type": "stream",
     "text": [
      "/anaconda2/lib/python2.7/site-packages/skimage/transform/_warps.py:110: UserWarning: Anti-aliasing will be enabled by default in skimage 0.15 to avoid aliasing artifacts when down-sampling images.\n",
      "  warn(\"Anti-aliasing will be enabled by default in skimage 0.15 to \"\n"
     ]
    }
   ],
   "source": [
    "##stretched image\n",
    "###crop image\n",
    "train_x_crop = []\n",
    "test_x_crop = []\n",
    "for x in train_x.reshape(-1, 28, 28):\n",
    "    train_x_crop.append(np.ravel(crop_image(x)))\n",
    "for x in test_x.reshape(-1, 28, 28):\n",
    "    test_x_crop.append(np.ravel(crop_image(x)))\n",
    "test_x_crop = np.array(test_x_crop)\n",
    "###\n",
    "train_x_crop_thre = np.array([threshold(x) for x in train_x_crop])\n",
    "test_x_crop_thre = np.array([threshold(x) for x in test_x_crop])"
   ]
  },
  {
   "cell_type": "code",
   "execution_count": 20,
   "metadata": {},
   "outputs": [
    {
     "data": {
      "text/plain": [
       "array([0.09871667, 0.11236667, 0.0993    , 0.10218333, 0.09736667,\n",
       "       0.09035   , 0.09863333, 0.10441667, 0.09751667, 0.09915   ])"
      ]
     },
     "execution_count": 20,
     "metadata": {},
     "output_type": "execute_result"
    }
   ],
   "source": [
    "##GaussianNB parameters\n",
    "### class probability calculation\n",
    "from collections import Counter\n",
    "count_dic = Counter(train_y)\n",
    "prob = []\n",
    "for i in count_dic.keys():\n",
    "    p = count_dic[i] / float(sum(count_dic.values()))\n",
    "    prob.append(p)\n",
    "prob = np.array(prob)\n",
    "prob"
   ]
  },
  {
   "cell_type": "code",
   "execution_count": 21,
   "metadata": {},
   "outputs": [],
   "source": [
    "model = GaussianNB()\n",
    "model.fit(train_x_thre, train_y) ##fit untouched train set\n",
    "#model.fit(train_x_crop_thre, train_y) ##fit stretched train set\n",
    "prob = model.class_prior_\n",
    "mean = model.theta_\n",
    "var = model.sigma_\n",
    "model_B = BernoulliNB()\n",
    "model_B.fit(train_x_thre, train_y) ##fit untouched train set\n",
    "#model_B.fit(train_x_crop_thre, train_y) ##fit stretched train set\n",
    "lpg_p_class = model_B.class_log_prior_\n",
    "log_p_feature = model_B.feature_log_prob_"
   ]
  },
  {
   "cell_type": "code",
   "execution_count": 22,
   "metadata": {},
   "outputs": [],
   "source": [
    "def accuracyscore(x, y):\n",
    "    return sum(x == y) / float(len(y))"
   ]
  },
  {
   "cell_type": "code",
   "execution_count": 23,
   "metadata": {},
   "outputs": [
    {
     "data": {
      "text/plain": [
       "0.54855"
      ]
     },
     "execution_count": 23,
     "metadata": {},
     "output_type": "execute_result"
    }
   ],
   "source": [
    "###GaussianNB untouched accuracy score train_set\n",
    "model = GaussianNB()\n",
    "model.fit(train_x_thre, train_y)\n",
    "accuracy_score(map(int, train_y), model.predict(train_x_thre))"
   ]
  },
  {
   "cell_type": "code",
   "execution_count": 60,
   "metadata": {},
   "outputs": [],
   "source": [
    "def Gaussiannb_predict(trainset, testset):\n",
    "    def norm_prob_cal(x, mean_y, var_y): ### var = stdv**2\n",
    "        ###return P(x|y)\n",
    "        tmp = np.exp(-(x - mean_y) ** 2 / (2 * var_y))\n",
    "        return 1 / ((2 * np.pi * var_y) ** 0.5) * tmp\n",
    "    #model_nb = GaussianNB()#model_nb.fit(trainset, train_y)\n",
    "    #mean = model_nb.theta_  ### mean values (10, 784)\n",
    "    #var = model_nb.sigma_   ### var values  (10, 784)\n",
    "    #pro = model_nb.class_prior_ ###prob of each class (10) \n",
    "    from collections import Counter\n",
    "    count_dic = Counter(testset)\n",
    "    prob = []\n",
    "    for i in count_dic.keys():\n",
    "        p = count_dic[i] / float(sum(count_dic.values()))\n",
    "        prob.append(p)\n",
    "    prob = np.array(prob)\n",
    "    columns = [str(i) for i in range(trainset.shape[1])]\n",
    "    df = pd.DataFrame(trainset, index = None, columns = columns)\n",
    "    df['class'] = testset\n",
    "    mean_ = df.groupby('class').mean()\n",
    "    var_ = df.groupby('class').var()\n",
    "    pro = prob\n",
    "    mean = mean_\n",
    "    var = var_\n",
    "    pred_y = []\n",
    "    ###return predict of trainset\n",
    "    for i in range(len(trainset)):\n",
    "        norm_prob = norm_prob_cal(trainset[i], mean, var)\n",
    "        norm_prob = norm_prob.replace(np.NaN, 1)\n",
    "        norm_log_prob = np.log(norm_prob)\n",
    "        p = np.sum(norm_log_prob, axis = 1) + np.log(pro)\n",
    "        pred_y.append(np.argmax(p))\n",
    "    return pred_y      "
   ]
  },
  {
   "cell_type": "code",
   "execution_count": 61,
   "metadata": {},
   "outputs": [
    {
     "name": "stderr",
     "output_type": "stream",
     "text": [
      "/anaconda2/lib/python2.7/site-packages/ipykernel_launcher.py:30: RuntimeWarning: divide by zero encountered in log\n"
     ]
    },
    {
     "data": {
      "text/plain": [
       "0.7775333333333333"
      ]
     },
     "execution_count": 61,
     "metadata": {},
     "output_type": "execute_result"
    }
   ],
   "source": [
    "accuracyscore(Gaussiannb_predict(train_x_thre, train_y), train_y) ###Gaussian train set untouched          "
   ]
  },
  {
   "cell_type": "code",
   "execution_count": 62,
   "metadata": {},
   "outputs": [
    {
     "name": "stderr",
     "output_type": "stream",
     "text": [
      "/anaconda2/lib/python2.7/site-packages/ipykernel_launcher.py:30: RuntimeWarning: divide by zero encountered in log\n"
     ]
    },
    {
     "data": {
      "text/plain": [
       "0.79585"
      ]
     },
     "execution_count": 62,
     "metadata": {},
     "output_type": "execute_result"
    }
   ],
   "source": [
    "accuracyscore(Gaussiannb_predict(train_x_crop_thre, train_y), train_y) ###Gaussian train set stretched "
   ]
  },
  {
   "cell_type": "code",
   "execution_count": 63,
   "metadata": {},
   "outputs": [
    {
     "data": {
      "text/plain": [
       "0.7975"
      ]
     },
     "execution_count": 63,
     "metadata": {},
     "output_type": "execute_result"
    }
   ],
   "source": [
    "accuracyscore(Gaussiannb_predict(test_x_thre, test_y), test_y) ###Gaussian test set untouched"
   ]
  },
  {
   "cell_type": "code",
   "execution_count": 64,
   "metadata": {},
   "outputs": [
    {
     "data": {
      "text/plain": [
       "0.8206"
      ]
     },
     "execution_count": 64,
     "metadata": {},
     "output_type": "execute_result"
    }
   ],
   "source": [
    "accuracyscore(Gaussiannb_predict(test_x_crop_thre, test_y), test_y) ###Gaussian test set stretched"
   ]
  },
  {
   "cell_type": "code",
   "execution_count": 32,
   "metadata": {},
   "outputs": [],
   "source": [
    "def Bernoulli_pred(trainset_x, trainset_y):\n",
    "    #model = BernoulliNB()\n",
    "    #model.fit(trainset, train_y)\n",
    "    #log_p_class = model.class_log_prior_\n",
    "    #log_p_feature = model.feature_log_prob_ \n",
    "    columns = [str(i) for i in range(trainset_x.shape[1])]\n",
    "    df = pd.DataFrame(trainset_x, index = None, columns = columns)\n",
    "    df['class'] = trainset_y\n",
    "    count_dic = Counter(trainset_y)\n",
    "    prob = []\n",
    "    for i in count_dic.keys():\n",
    "        p = count_dic[i] / float(sum(count_dic.values()))\n",
    "        prob.append(p)\n",
    "    prob = np.array(prob)\n",
    "    log_p_class = np.log(prob)\n",
    "    class_dic = Counter(trainset_y)\n",
    "    class_count = np.array(count_dic.values())\n",
    "    feature_count = np.array(df.groupby('class').sum())\n",
    "    log_p_feature = np.log(feature_count + 1.0) - np.log((class_count + 2.0).reshape(-1, 1))\n",
    "    lpg_p_feature = np.array(log_p_feature)\n",
    "    pred = []\n",
    "    for i in range(len(trainset_x)):\n",
    "        tmp = trainset_x[i] * log_p_feature + (1 - trainset_x[i]) * np.log((1 - np.exp(log_p_feature)))\n",
    "        total_tmp = np.sum(tmp, axis = 1)\n",
    "        p = total_tmp + log_p_class\n",
    "        pred.append(np.argmax(p))\n",
    "    return pred"
   ]
  },
  {
   "cell_type": "code",
   "execution_count": 33,
   "metadata": {},
   "outputs": [
    {
     "data": {
      "text/plain": [
       "0.8376833333333333"
      ]
     },
     "execution_count": 33,
     "metadata": {},
     "output_type": "execute_result"
    }
   ],
   "source": [
    "accuracyscore(Bernoulli_pred(train_x_thre, train_y), train_y)## Bernoulli untouched train set"
   ]
  },
  {
   "cell_type": "code",
   "execution_count": 34,
   "metadata": {},
   "outputs": [
    {
     "data": {
      "text/plain": [
       "0.8517"
      ]
     },
     "execution_count": 34,
     "metadata": {},
     "output_type": "execute_result"
    }
   ],
   "source": [
    "accuracyscore(Bernoulli_pred(test_x_thre, test_y), test_y)## Bernoulli untouched test set"
   ]
  },
  {
   "cell_type": "code",
   "execution_count": 35,
   "metadata": {},
   "outputs": [
    {
     "data": {
      "text/plain": [
       "0.8250333333333333"
      ]
     },
     "execution_count": 35,
     "metadata": {},
     "output_type": "execute_result"
    }
   ],
   "source": [
    "accuracyscore(Bernoulli_pred(train_x_crop_thre, train_y), train_y)## Bernoulli stretched train set"
   ]
  },
  {
   "cell_type": "code",
   "execution_count": 36,
   "metadata": {},
   "outputs": [
    {
     "data": {
      "text/plain": [
       "0.8415"
      ]
     },
     "execution_count": 36,
     "metadata": {},
     "output_type": "execute_result"
    }
   ],
   "source": [
    "accuracyscore(Bernoulli_pred(test_x_crop_thre, test_y), test_y)## Bernoulli stretched test set"
   ]
  },
  {
   "cell_type": "code",
   "execution_count": 37,
   "metadata": {},
   "outputs": [
    {
     "data": {
      "text/plain": [
       "0.79525"
      ]
     },
     "execution_count": 37,
     "metadata": {},
     "output_type": "execute_result"
    }
   ],
   "source": [
    "###GaussianNB stretched accuracy score train_set\n",
    "model = GaussianNB()\n",
    "model.fit(train_x_crop_thre, train_y)\n",
    "accuracy_score(map(int, train_y), model.predict(train_x_crop_thre))"
   ]
  },
  {
   "cell_type": "code",
   "execution_count": 38,
   "metadata": {},
   "outputs": [
    {
     "data": {
      "text/plain": [
       "0.5399"
      ]
     },
     "execution_count": 38,
     "metadata": {},
     "output_type": "execute_result"
    }
   ],
   "source": [
    "###GaussianNB untouched accuracy score test_set\n",
    "model = GaussianNB()\n",
    "model.fit(train_x_thre, train_y)\n",
    "pred_y = model.predict(test_x_thre)\n",
    "accuracy_score(map(int, test_y), pred_y)"
   ]
  },
  {
   "cell_type": "code",
   "execution_count": 39,
   "metadata": {},
   "outputs": [
    {
     "data": {
      "text/plain": [
       "0.8075"
      ]
     },
     "execution_count": 39,
     "metadata": {},
     "output_type": "execute_result"
    }
   ],
   "source": [
    "###GaussianNB stretched accuracy score test_set\n",
    "model = GaussianNB()\n",
    "model.fit(train_x_crop_thre, train_y)\n",
    "pred_y = model.predict(test_x_crop_thre)\n",
    "accuracy_score(map(int, test_y), pred_y)"
   ]
  },
  {
   "cell_type": "code",
   "execution_count": 40,
   "metadata": {},
   "outputs": [
    {
     "data": {
      "text/plain": [
       "0.8376833333333333"
      ]
     },
     "execution_count": 40,
     "metadata": {},
     "output_type": "execute_result"
    }
   ],
   "source": [
    "###BernoulliNB untouched accuracy score train_set\n",
    "model = BernoulliNB()\n",
    "model.fit(train_x_thre, train_y)\n",
    "accuracy_score(map(int, train_y), model.predict(train_x_thre))"
   ]
  },
  {
   "cell_type": "code",
   "execution_count": 41,
   "metadata": {},
   "outputs": [
    {
     "data": {
      "text/plain": [
       "0.8250333333333333"
      ]
     },
     "execution_count": 41,
     "metadata": {},
     "output_type": "execute_result"
    }
   ],
   "source": [
    "###BernoulliNB stretched accuracy score train_set\n",
    "model = BernoulliNB()\n",
    "model.fit(train_x_crop_thre, train_y)\n",
    "accuracy_score(map(int, train_y), model.predict(train_x_crop_thre))"
   ]
  },
  {
   "cell_type": "code",
   "execution_count": 42,
   "metadata": {},
   "outputs": [
    {
     "data": {
      "text/plain": [
       "0.8487"
      ]
     },
     "execution_count": 42,
     "metadata": {},
     "output_type": "execute_result"
    }
   ],
   "source": [
    "###BernoulliNB untouched accuracy score test_set\n",
    "model = BernoulliNB()\n",
    "model.fit(train_x_thre, train_y)\n",
    "pred_y = model.predict(test_x_thre)\n",
    "accuracy_score(map(int, test_y), pred_y)"
   ]
  },
  {
   "cell_type": "code",
   "execution_count": 43,
   "metadata": {},
   "outputs": [
    {
     "data": {
      "text/plain": [
       "0.8381"
      ]
     },
     "execution_count": 43,
     "metadata": {},
     "output_type": "execute_result"
    }
   ],
   "source": [
    "###BernoulliNB stretched accuracy score test_set\n",
    "model = BernoulliNB()\n",
    "model.fit(train_x_crop_thre, train_y)\n",
    "pred_y = model.predict(test_x_crop_thre)\n",
    "accuracy_score(map(int, test_y), pred_y)"
   ]
  },
  {
   "cell_type": "code",
   "execution_count": 44,
   "metadata": {},
   "outputs": [
    {
     "name": "stdout",
     "output_type": "stream",
     "text": [
      "defaultdict(<type 'list'>, {'untouched': [(0.54855, 0.5399), (0.8376833333333333, 0.8487)], 'stretched': [(0.79525, 0.8075), (0.8250333333333333, 0.8381)]})\n"
     ]
    }
   ],
   "source": [
    "###compare with library build-in predict function\n",
    "dataset = [(train_x_thre, test_x_thre, 'untouched'), (train_x_crop_thre, test_x_crop_thre, 'stretched')]\n",
    "from collections import defaultdict\n",
    "result = defaultdict(list)\n",
    "for (train, test, name) in dataset:\n",
    "    for model in [GaussianNB(), BernoulliNB()]:\n",
    "        model.fit(train, train_y)\n",
    "        pred_y = model.predict(test)\n",
    "        train_score = accuracy_score(map(int, train_y), model.predict(train))\n",
    "        test_score = accuracy_score(map(int, test_y), pred_y)\n",
    "        result[name].append((train_score, test_score))\n",
    "print(result)\n",
    "### result {'untouched': [(Gaussian_train_accu, Gaussian_test_accu), \n",
    "###                       (Bernoulli_train_accu, Bernoulli_test_accu)], \n",
    "###         'stretched': [(Gaussian_train_accu, Gaussian_test_accu), \n",
    "###                       (Bernoulli_train_accu, Bernoulli_test_accu)]}"
   ]
  },
  {
   "cell_type": "markdown",
   "metadata": {},
   "source": [
    "## plot mean pixel values for Normal Distribution"
   ]
  },
  {
   "cell_type": "code",
   "execution_count": 53,
   "metadata": {},
   "outputs": [
    {
     "data": {
      "image/png": "[encoded data removed]",
      "text/plain": [
       "<Figure size 432x288 with 1 Axes>"
      ]
     },
     "metadata": {
      "needs_background": "light"
     },
     "output_type": "display_data"
    },
    {
     "data": {
      "image/png": "[encoded data removed]",
      "text/plain": [
       "<Figure size 432x288 with 1 Axes>"
      ]
     },
     "metadata": {
      "needs_background": "light"
     },
     "output_type": "display_data"
    },
    {
     "data": {
      "image/png": "[encoded data removed]",
      "text/plain": [
       "<Figure size 432x288 with 1 Axes>"
      ]
     },
     "metadata": {
      "needs_background": "light"
     },
     "output_type": "display_data"
    },
    {
     "data": {
      "image/png": "[encoded data removed]",
      "text/plain": [
       "<Figure size 432x288 with 1 Axes>"
      ]
     },
     "metadata": {
      "needs_background": "light"
     },
     "output_type": "display_data"
    },
    {
     "data": {
      "image/png": "[encoded data removed]",
      "text/plain": [
       "<Figure size 432x288 with 1 Axes>"
      ]
     },
     "metadata": {
      "needs_background": "light"
     },
     "output_type": "display_data"
    },
    {
     "data": {
      "image/png": "[encoded data removed]",
      "text/plain": [
       "<Figure size 432x288 with 1 Axes>"
      ]
     },
     "metadata": {
      "needs_background": "light"
     },
     "output_type": "display_data"
    },
    {
     "data": {
      "image/png": "[encoded data removed]",
      "text/plain": [
       "<Figure size 432x288 with 1 Axes>"
      ]
     },
     "metadata": {
      "needs_background": "light"
     },
     "output_type": "display_data"
    },
    {
     "data": {
      "image/png": "[encoded data removed]",
      "text/plain": [
       "<Figure size 432x288 with 1 Axes>"
      ]
     },
     "metadata": {
      "needs_background": "light"
     },
     "output_type": "display_data"
    },
    {
     "data": {
      "image/png": "[encoded data removed]",
      "text/plain": [
       "<Figure size 432x288 with 1 Axes>"
      ]
     },
     "metadata": {
      "needs_background": "light"
     },
     "output_type": "display_data"
    },
    {
     "data": {
      "image/png": "[encoded data removed]",
      "text/plain": [
       "<Figure size 432x288 with 1 Axes>"
      ]
     },
     "metadata": {
      "needs_background": "light"
     },
     "output_type": "display_data"
    }
   ],
   "source": [
    "columns = [str(i) for i in range(train_x_thre.shape[1])]\n",
    "df = pd.DataFrame(train_x_thre, index = None, columns = columns)\n",
    "df['class'] = train_y\n",
    "mean_ = np.array(df.groupby('class').mean())\n",
    "for i in range(len(mean_)):\n",
    "    image = mean_[i]\n",
    "    plt.imshow(image.reshape((28, 28)), cmap = 'Greys')\n",
    "    plt.show()"
   ]
  },
  {
   "cell_type": "code",
   "execution_count": 49,
   "metadata": {},
   "outputs": [
    {
     "data": {
      "image/png": "[encoded data removed]",
      "text/plain": [
       "<Figure size 432x288 with 1 Axes>"
      ]
     },
     "metadata": {
      "needs_background": "light"
     },
     "output_type": "display_data"
    },
    {
     "data": {
      "image/png": "[encoded data removed]",
      "text/plain": [
       "<Figure size 432x288 with 1 Axes>"
      ]
     },
     "metadata": {
      "needs_background": "light"
     },
     "output_type": "display_data"
    },
    {
     "data": {
      "image/png": "[encoded data removed]",
      "text/plain": [
       "<Figure size 432x288 with 1 Axes>"
      ]
     },
     "metadata": {
      "needs_background": "light"
     },
     "output_type": "display_data"
    },
    {
     "data": {
      "image/png": "[encoded data removed]",
      "text/plain": [
       "<Figure size 432x288 with 1 Axes>"
      ]
     },
     "metadata": {
      "needs_background": "light"
     },
     "output_type": "display_data"
    },
    {
     "data": {
      "image/png": "[encoded data removed]",
      "text/plain": [
       "<Figure size 432x288 with 1 Axes>"
      ]
     },
     "metadata": {
      "needs_background": "light"
     },
     "output_type": "display_data"
    },
    {
     "data": {
      "image/png": "[encoded data removed]",
      "text/plain": [
       "<Figure size 432x288 with 1 Axes>"
      ]
     },
     "metadata": {
      "needs_background": "light"
     },
     "output_type": "display_data"
    },
    {
     "data": {
      "image/png": "[encoded data removed]",
      "text/plain": [
       "<Figure size 432x288 with 1 Axes>"
      ]
     },
     "metadata": {
      "needs_background": "light"
     },
     "output_type": "display_data"
    },
    {
     "data": {
      "image/png": "[encoded data removed]",
      "text/plain": [
       "<Figure size 432x288 with 1 Axes>"
      ]
     },
     "metadata": {
      "needs_background": "light"
     },
     "output_type": "display_data"
    },
    {
     "data": {
      "image/png": "[encoded data removed]",
      "text/plain": [
       "<Figure size 432x288 with 1 Axes>"
      ]
     },
     "metadata": {
      "needs_background": "light"
     },
     "output_type": "display_data"
    },
    {
     "data": {
      "image/png": "[encoded data removed]",
      "text/plain": [
       "<Figure size 432x288 with 1 Axes>"
      ]
     },
     "metadata": {
      "needs_background": "light"
     },
     "output_type": "display_data"
    }
   ],
   "source": [
    "##plot mean pixel values for Normal Distribution\n",
    "model = GaussianNB()\n",
    "model.fit(train_x_thre, train_y)\n",
    "mean = model.theta_\n",
    "for i in range(len(mean)):\n",
    "    image = mean[i]\n",
    "    plt.imshow(image.reshape((28, 28)), cmap = 'Greys')\n",
    "    plt.show()"
   ]
  },
  {
   "cell_type": "markdown",
   "metadata": {},
   "source": [
    "## Part 2B: MNIST using Decision Forest"
   ]
  },
  {
   "cell_type": "code",
   "execution_count": 46,
   "metadata": {},
   "outputs": [],
   "source": [
    "from sklearn.ensemble import RandomForestClassifier"
   ]
  },
  {
   "cell_type": "code",
   "execution_count": 47,
   "metadata": {},
   "outputs": [
    {
     "data": {
      "text/plain": [
       "[(10, 4), (10, 16), (30, 4), (30, 16)]"
      ]
     },
     "execution_count": 47,
     "metadata": {},
     "output_type": "execute_result"
    }
   ],
   "source": [
    "import itertools\n",
    "trees = [10, 30]\n",
    "depth = [4, 16]\n",
    "combinations = list(itertools.product(trees, depth))\n",
    "combinations"
   ]
  },
  {
   "cell_type": "code",
   "execution_count": 48,
   "metadata": {},
   "outputs": [
    {
     "name": "stdout",
     "output_type": "stream",
     "text": [
      "defaultdict(<type 'list'>, {'untouched': [(0.6677666666666666, 0.6757), (0.9872, 0.9358), (0.7178666666666667, 0.7212), (0.9923, 0.9494)], 'stretched': [(0.6977833333333333, 0.7161), (0.99515, 0.9566), (0.74645, 0.7548), (0.99705, 0.9681)]})\n"
     ]
    }
   ],
   "source": [
    "resultB = defaultdict(list)\n",
    "for (train, test, name) in dataset:\n",
    "    for [tree, depth] in combinations:\n",
    "        model = RandomForestClassifier(n_estimators = tree, max_depth = depth)\n",
    "        model.fit(train, train_y)\n",
    "        pred_y = model.predict(test)\n",
    "        train_score = accuracy_score(map(int, train_y), model.predict(train))\n",
    "        test_score = accuracy_score(map(int, test_y), pred_y)\n",
    "        resultB[name].append((train_score, test_score))\n",
    "print(resultB)\n",
    "###resultB = {'untouched': [(train_accu 10trees + 4depth, test_accu 10trees + 4depth), \n",
    "###                         (train_accu 10trees + 16depth, test_accu 10trees + 16depth), \n",
    "###                         (train_accu 30trees + 4depth, test_accu 30trees + 4depth), \n",
    "###                         (train_accu 30trees + 16depth, test_accu 30trees + 4depth)], \n",
    "###           'stretched': [(train_accu 10trees + 4depth, test_accu 10trees + 4depth), \n",
    "###                         (train_accu 10trees + 16depth, test_accu 10trees + 16depth), \n",
    "###                         (train_accu 30trees + 4depth, test_accu 30trees + 4depth), \n",
    "###                         (train_accu 30trees + 16depth, test_accu 30trees + 4depth)}"
   ]
  }
 ],
 "metadata": {
  "kernelspec": {
   "display_name": "Python 2",
   "language": "python",
   "name": "python2"
  },
  "language_info": {
   "codemirror_mode": {
    "name": "ipython",
    "version": 2
   },
   "file_extension": ".py",
   "mimetype": "text/x-python",
   "name": "python",
   "nbconvert_exporter": "python",
   "pygments_lexer": "ipython2",
   "version": "2.7.15"
  }
 },
 "nbformat": 4,
 "nbformat_minor": 2
}
