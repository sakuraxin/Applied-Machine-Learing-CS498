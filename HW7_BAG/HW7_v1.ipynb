{
 "cells": [
  {
   "cell_type": "code",
   "execution_count": 1,
   "metadata": {},
   "outputs": [
    {
     "data": {
      "text/html": [
       "<div>\n",
       "<style scoped>\n",
       "    .dataframe tbody tr th:only-of-type {\n",
       "        vertical-align: middle;\n",
       "    }\n",
       "\n",
       "    .dataframe tbody tr th {\n",
       "        vertical-align: top;\n",
       "    }\n",
       "\n",
       "    .dataframe thead th {\n",
       "        text-align: right;\n",
       "    }\n",
       "</style>\n",
       "<table border=\"1\" class=\"dataframe\">\n",
       "  <thead>\n",
       "    <tr style=\"text-align: right;\">\n",
       "      <th></th>\n",
       "      <th>text</th>\n",
       "      <th>stars</th>\n",
       "    </tr>\n",
       "  </thead>\n",
       "  <tbody>\n",
       "    <tr>\n",
       "      <th>0</th>\n",
       "      <td>This car wash sucks.  Paid $40 for the Ultimat...</td>\n",
       "      <td>1</td>\n",
       "    </tr>\n",
       "    <tr>\n",
       "      <th>1</th>\n",
       "      <td>I was referred to Earnie by friends and since ...</td>\n",
       "      <td>5</td>\n",
       "    </tr>\n",
       "    <tr>\n",
       "      <th>2</th>\n",
       "      <td>The food is okay, but they have the worst serv...</td>\n",
       "      <td>1</td>\n",
       "    </tr>\n",
       "    <tr>\n",
       "      <th>3</th>\n",
       "      <td>Opting out from the noise and hustle of Flo's ...</td>\n",
       "      <td>1</td>\n",
       "    </tr>\n",
       "    <tr>\n",
       "      <th>4</th>\n",
       "      <td>Basically, unlimited steak. If you like steak,...</td>\n",
       "      <td>5</td>\n",
       "    </tr>\n",
       "  </tbody>\n",
       "</table>\n",
       "</div>"
      ],
      "text/plain": [
       "                                                text  stars\n",
       "0  This car wash sucks.  Paid $40 for the Ultimat...      1\n",
       "1  I was referred to Earnie by friends and since ...      5\n",
       "2  The food is okay, but they have the worst serv...      1\n",
       "3  Opting out from the noise and hustle of Flo's ...      1\n",
       "4  Basically, unlimited steak. If you like steak,...      5"
      ]
     },
     "execution_count": 1,
     "metadata": {},
     "output_type": "execute_result"
    }
   ],
   "source": [
    "import pandas as pd\n",
    "import numpy as np\n",
    "from nltk.corpus import stopwords\n",
    "df = pd.read_csv('/Users/xinqu/Sandbox/CS498 Applied Machine Learning/HW/HW7/yelp_2k.csv')\n",
    "df = df[['text', 'stars']]\n",
    "df.head()"
   ]
  },
  {
   "cell_type": "code",
   "execution_count": 2,
   "metadata": {},
   "outputs": [],
   "source": [
    "df['length'] = df['text'].apply(len)"
   ]
  },
  {
   "cell_type": "code",
   "execution_count": 3,
   "metadata": {},
   "outputs": [
    {
     "data": {
      "image/png": "[encoded data removed]",
      "text/plain": [
       "<Figure size 576x360 with 1 Axes>"
      ]
     },
     "metadata": {
      "needs_background": "light"
     },
     "output_type": "display_data"
    },
    {
     "data": {
      "image/png": "[encoded data removed]",
      "text/plain": [
       "<Figure size 576x360 with 1 Axes>"
      ]
     },
     "metadata": {
      "needs_background": "light"
     },
     "output_type": "display_data"
    }
   ],
   "source": [
    "###plot histogram distribution of legnth of review for each class\n",
    "import matplotlib.pyplot as plt\n",
    "%matplotlib inline\n",
    "stars_val = df.stars.unique()\n",
    "for i in range(len(stars_val)):\n",
    "    stars = df['length'][df['stars'] == stars_val[i]]\n",
    "    plt.figure(figsize = (8, 5))\n",
    "    plt.hist(stars, bins = 'auto', alpha = 0.7, rwidth = 0.8)\n",
    "    plt.xlabel('Review length')\n",
    "    plt.ylabel('Frequency')\n",
    "    plt.title('Histogram distribution of length of review for stars' + str(stars_val[i]))\n",
    "    plt.show()"
   ]
  },
  {
   "cell_type": "code",
   "execution_count": 4,
   "metadata": {},
   "outputs": [],
   "source": [
    "###processing and tokenization\n",
    "import re\n",
    "stop_words = set(stopwords.words('english'))\n",
    "def tokenization(text):\n",
    "    res = []\n",
    "    words = re.sub('[^a-zA-Z]', ' ', text).lower() ###lower case & remove all punctuations\n",
    "    words = words.split()\n",
    "    for word in words:\n",
    "        if word not in stop_words:\n",
    "            res.append(word)\n",
    "    return res"
   ]
  },
  {
   "cell_type": "code",
   "execution_count": 5,
   "metadata": {},
   "outputs": [
    {
     "data": {
      "text/plain": [
       "'This car wash sucks.  Paid $40 for the Ultimate VIP.  still had dirt all over the bumpers.  No vacuuming in the hatch. Sales people are very pushy.  Guy kept trying to sell me an oil change & next guy was so pushy about getting a full detail for $155. \\n\\nMy car is brand new.  RIDICULOUS... worst service ever.'"
      ]
     },
     "execution_count": 5,
     "metadata": {},
     "output_type": "execute_result"
    }
   ],
   "source": [
    "df.iloc[0]['text']"
   ]
  },
  {
   "cell_type": "code",
   "execution_count": 6,
   "metadata": {},
   "outputs": [
    {
     "data": {
      "text/plain": [
       "['car',\n",
       " 'wash',\n",
       " 'sucks',\n",
       " 'paid',\n",
       " 'ultimate',\n",
       " 'vip',\n",
       " 'still',\n",
       " 'dirt',\n",
       " 'bumpers',\n",
       " 'vacuuming',\n",
       " 'hatch',\n",
       " 'sales',\n",
       " 'people',\n",
       " 'pushy',\n",
       " 'guy',\n",
       " 'kept',\n",
       " 'trying',\n",
       " 'sell',\n",
       " 'oil',\n",
       " 'change',\n",
       " 'next',\n",
       " 'guy',\n",
       " 'pushy',\n",
       " 'getting',\n",
       " 'full',\n",
       " 'detail',\n",
       " 'car',\n",
       " 'brand',\n",
       " 'new',\n",
       " 'ridiculous',\n",
       " 'worst',\n",
       " 'service',\n",
       " 'ever']"
      ]
     },
     "execution_count": 6,
     "metadata": {},
     "output_type": "execute_result"
    }
   ],
   "source": [
    "tokenization(df.iloc[0]['text'])"
   ]
  },
  {
   "cell_type": "code",
   "execution_count": 7,
   "metadata": {},
   "outputs": [],
   "source": [
    "word_list = []\n",
    "for i in range(2000):\n",
    "    word_list.append(tokenization(df.iloc[i]['text']))"
   ]
  },
  {
   "cell_type": "code",
   "execution_count": 8,
   "metadata": {},
   "outputs": [],
   "source": [
    "###bag of words\n",
    "bag_of_words = set()\n",
    "for i in range(2000):\n",
    "    for j in word_list[i]:\n",
    "        if j not in bag_of_words:\n",
    "            bag_of_words.add(j)\n",
    "bag_of_words = sorted(list(bag_of_words))"
   ]
  },
  {
   "cell_type": "code",
   "execution_count": 9,
   "metadata": {},
   "outputs": [],
   "source": [
    "def BoW(text):\n",
    "    vector = np.zeros(len(bag_of_words))\n",
    "    for word in text:\n",
    "        for i, j in enumerate(bag_of_words):\n",
    "            if j == word:\n",
    "                vector[i] += 1\n",
    "    return vector\n",
    "#BoW(word_list[0])"
   ]
  },
  {
   "cell_type": "code",
   "execution_count": 10,
   "metadata": {},
   "outputs": [
    {
     "data": {
      "text/plain": [
       "array([0., 0., 0., ..., 0., 0., 0.])"
      ]
     },
     "execution_count": 10,
     "metadata": {},
     "output_type": "execute_result"
    }
   ],
   "source": [
    "BoW(word_list[0])"
   ]
  },
  {
   "cell_type": "code",
   "execution_count": 11,
   "metadata": {},
   "outputs": [],
   "source": [
    "bow_list = []\n",
    "for i in range(2000):\n",
    "    bow_list.append(BoW(word_list[i]))"
   ]
  },
  {
   "cell_type": "code",
   "execution_count": 16,
   "metadata": {},
   "outputs": [],
   "source": [
    "from sklearn.model_selection import train_test_split\n",
    "from sklearn.metrics import accuracy_score\n",
    "from sklearn.metrics import confusion_matrix\n",
    "X_train, X_test, y_train, y_test = train_test_split(bow_list, df['stars'], test_size = 0.2, random_state = 42)"
   ]
  },
  {
   "cell_type": "markdown",
   "metadata": {},
   "source": [
    "LinearSVM classifier"
   ]
  },
  {
   "cell_type": "code",
   "execution_count": 17,
   "metadata": {},
   "outputs": [
    {
     "name": "stdout",
     "output_type": "stream",
     "text": [
      "[[188  16]\n",
      " [ 14 182]]\n"
     ]
    }
   ],
   "source": [
    "import warnings\n",
    "warnings.filterwarnings('ignore')\n",
    "from sklearn import svm\n",
    "classifier = svm.LinearSVC(random_state = 0)\n",
    "classifier.fit(X_train, y_train)\n",
    "predictions = classifier.predict(X_test)\n",
    "#accuracy_score(predictions, y_test)\n",
    "print(confusion_matrix(y_test, predictions))"
   ]
  },
  {
   "cell_type": "code",
   "execution_count": 18,
   "metadata": {},
   "outputs": [
    {
     "data": {
      "text/plain": [
       "0.925"
      ]
     },
     "execution_count": 18,
     "metadata": {},
     "output_type": "execute_result"
    }
   ],
   "source": [
    "accuracy_score(predictions, y_test)"
   ]
  },
  {
   "cell_type": "code",
   "execution_count": 20,
   "metadata": {},
   "outputs": [
    {
     "data": {
      "text/plain": [
       "Text(0.5,1,'Precision-Recall curve for LinearSVM')"
      ]
     },
     "execution_count": 20,
     "metadata": {},
     "output_type": "execute_result"
    },
    {
     "data": {
      "image/png": "[encoded data removed]",
      "text/plain": [
       "<Figure size 432x288 with 1 Axes>"
      ]
     },
     "metadata": {
      "needs_background": "light"
     },
     "output_type": "display_data"
    }
   ],
   "source": [
    "from sklearn.metrics import precision_recall_curve\n",
    "y_score_rf = classifier.decision_function(X_test) ##predict confidence scores\n",
    "precision_rf, recall_rf, thresholds_rf = precision_recall_curve(y_test, y_score_rf, pos_label = 5)\n",
    "plt.step(recall_rf, precision_rf, color = 'b', alpha = 0.2, where = 'post')\n",
    "plt.xlabel('Recall')\n",
    "plt.ylabel('Precision')\n",
    "plt.title('Precision-Recall curve for LinearSVM')"
   ]
  },
  {
   "cell_type": "markdown",
   "metadata": {},
   "source": [
    "Logistic Regression"
   ]
  },
  {
   "cell_type": "code",
   "execution_count": 21,
   "metadata": {},
   "outputs": [
    {
     "name": "stdout",
     "output_type": "stream",
     "text": [
      "[[186  18]\n",
      " [ 14 182]]\n"
     ]
    }
   ],
   "source": [
    "from sklearn.linear_model import LogisticRegression\n",
    "logreg = LogisticRegression()\n",
    "logreg.fit(X_train, y_train)\n",
    "pre_logreg = logreg.predict(X_test)\n",
    "print(confusion_matrix(y_test, pre_logreg))"
   ]
  },
  {
   "cell_type": "code",
   "execution_count": 22,
   "metadata": {},
   "outputs": [
    {
     "data": {
      "text/plain": [
       "0.92"
      ]
     },
     "execution_count": 22,
     "metadata": {},
     "output_type": "execute_result"
    }
   ],
   "source": [
    "accuracy_score(pre_logreg, y_test)"
   ]
  },
  {
   "cell_type": "code",
   "execution_count": 24,
   "metadata": {},
   "outputs": [
    {
     "data": {
      "text/plain": [
       "Text(0.5,1,'Precision-Recall curve for LogisticRegression')"
      ]
     },
     "execution_count": 24,
     "metadata": {},
     "output_type": "execute_result"
    },
    {
     "data": {
      "image/png": "[encoded data removed]",
      "text/plain": [
       "<Figure size 432x288 with 1 Axes>"
      ]
     },
     "metadata": {
      "needs_background": "light"
     },
     "output_type": "display_data"
    }
   ],
   "source": [
    "y_score = logreg.decision_function(X_test) ##predict confidence scores\n",
    "precision, recall, thresholds = precision_recall_curve(y_test, y_score, pos_label = 5)\n",
    "plt.step(recall, precision, color = 'b', alpha = 0.2, where = 'post')\n",
    "plt.xlabel('Recall')\n",
    "plt.ylabel('Precision')\n",
    "plt.title('Precision-Recall curve for LogisticRegression')"
   ]
  },
  {
   "cell_type": "code",
   "execution_count": null,
   "metadata": {},
   "outputs": [],
   "source": []
  }
 ],
 "metadata": {
  "kernelspec": {
   "display_name": "Python 2",
   "language": "python",
   "name": "python2"
  },
  "language_info": {
   "codemirror_mode": {
    "name": "ipython",
    "version": 2
   },
   "file_extension": ".py",
   "mimetype": "text/x-python",
   "name": "python",
   "nbconvert_exporter": "python",
   "pygments_lexer": "ipython2",
   "version": "2.7.15"
  }
 },
 "nbformat": 4,
 "nbformat_minor": 2
}
