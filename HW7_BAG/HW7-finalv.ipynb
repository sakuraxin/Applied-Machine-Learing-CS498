{
 "cells": [
  {
   "cell_type": "code",
   "execution_count": 1,
   "metadata": {},
   "outputs": [
    {
     "data": {
      "text/html": [
       "<div>\n",
       "<style scoped>\n",
       "    .dataframe tbody tr th:only-of-type {\n",
       "        vertical-align: middle;\n",
       "    }\n",
       "\n",
       "    .dataframe tbody tr th {\n",
       "        vertical-align: top;\n",
       "    }\n",
       "\n",
       "    .dataframe thead th {\n",
       "        text-align: right;\n",
       "    }\n",
       "</style>\n",
       "<table border=\"1\" class=\"dataframe\">\n",
       "  <thead>\n",
       "    <tr style=\"text-align: right;\">\n",
       "      <th></th>\n",
       "      <th>text</th>\n",
       "      <th>stars</th>\n",
       "    </tr>\n",
       "  </thead>\n",
       "  <tbody>\n",
       "    <tr>\n",
       "      <th>0</th>\n",
       "      <td>This car wash sucks.  Paid $40 for the Ultimat...</td>\n",
       "      <td>1</td>\n",
       "    </tr>\n",
       "    <tr>\n",
       "      <th>1</th>\n",
       "      <td>I was referred to Earnie by friends and since ...</td>\n",
       "      <td>5</td>\n",
       "    </tr>\n",
       "    <tr>\n",
       "      <th>2</th>\n",
       "      <td>The food is okay, but they have the worst serv...</td>\n",
       "      <td>1</td>\n",
       "    </tr>\n",
       "    <tr>\n",
       "      <th>3</th>\n",
       "      <td>Opting out from the noise and hustle of Flo's ...</td>\n",
       "      <td>1</td>\n",
       "    </tr>\n",
       "    <tr>\n",
       "      <th>4</th>\n",
       "      <td>Basically, unlimited steak. If you like steak,...</td>\n",
       "      <td>5</td>\n",
       "    </tr>\n",
       "  </tbody>\n",
       "</table>\n",
       "</div>"
      ],
      "text/plain": [
       "                                                text  stars\n",
       "0  This car wash sucks.  Paid $40 for the Ultimat...      1\n",
       "1  I was referred to Earnie by friends and since ...      5\n",
       "2  The food is okay, but they have the worst serv...      1\n",
       "3  Opting out from the noise and hustle of Flo's ...      1\n",
       "4  Basically, unlimited steak. If you like steak,...      5"
      ]
     },
     "execution_count": 1,
     "metadata": {},
     "output_type": "execute_result"
    }
   ],
   "source": [
    "import pandas as pd\n",
    "import numpy as np\n",
    "from nltk.corpus import stopwords\n",
    "df = pd.read_csv('/Users/xinqu/Sandbox/CS498 Applied Machine Learning/HW/HW7/yelp_2k.csv')\n",
    "df = df[['text', 'stars']]\n",
    "df.head()"
   ]
  },
  {
   "cell_type": "markdown",
   "metadata": {},
   "source": [
    "Part 1"
   ]
  },
  {
   "cell_type": "code",
   "execution_count": 2,
   "metadata": {},
   "outputs": [],
   "source": [
    "import re\n",
    "df['clean_text'] = df.text.apply(lambda x: re.sub('[^a-zA-Z]', ' ', x))\n",
    "from sklearn.feature_extraction.text import CountVectorizer\n",
    "vectorizer = CountVectorizer(analyzer = \"word\", tokenizer = None, preprocessor = None, \n",
    "                             token_pattern = u\"(?u)\\\\b\\\\w+\\\\b\", stop_words = None, max_features = 100000) \n",
    "train_data_features = vectorizer.fit_transform(df['clean_text'])\n",
    "#vectorizer.transform([df.iloc[0]['text']]).toarray()"
   ]
  },
  {
   "cell_type": "code",
   "execution_count": 3,
   "metadata": {},
   "outputs": [
    {
     "data": {
      "text/plain": [
       "(2000, 12852)"
      ]
     },
     "execution_count": 3,
     "metadata": {},
     "output_type": "execute_result"
    }
   ],
   "source": [
    "train_data_features.shape"
   ]
  },
  {
   "cell_type": "code",
   "execution_count": 4,
   "metadata": {},
   "outputs": [
    {
     "data": {
      "text/plain": [
       "[(u'the', 11041),\n",
       " (u'and', 8107),\n",
       " (u'i', 7511),\n",
       " (u'to', 6565),\n",
       " (u'a', 5498),\n",
       " (u'was', 3817),\n",
       " (u'it', 3333),\n",
       " (u'of', 3040),\n",
       " (u'for', 2728),\n",
       " (u'in', 2703),\n",
       " (u'my', 2606),\n",
       " (u'is', 2604),\n",
       " (u'that', 2321),\n",
       " (u'they', 2295),\n",
       " (u'this', 2116),\n",
       " (u'we', 2029),\n",
       " (u'you', 1962),\n",
       " (u'with', 1817),\n",
       " (u't', 1802),\n",
       " (u'on', 1719)]"
      ]
     },
     "execution_count": 4,
     "metadata": {},
     "output_type": "execute_result"
    }
   ],
   "source": [
    "sum_words = train_data_features.sum(axis = 0)\n",
    "words_freq = [(word, sum_words[0, idx]) for word, idx in vectorizer.vocabulary_.items()]\n",
    "words_freq = sorted(words_freq, key = lambda x: x[1], reverse =True)\n",
    "words_freq[:20]"
   ]
  },
  {
   "cell_type": "code",
   "execution_count": 5,
   "metadata": {},
   "outputs": [
    {
     "data": {
      "text/html": [
       "<div>\n",
       "<style scoped>\n",
       "    .dataframe tbody tr th:only-of-type {\n",
       "        vertical-align: middle;\n",
       "    }\n",
       "\n",
       "    .dataframe tbody tr th {\n",
       "        vertical-align: top;\n",
       "    }\n",
       "\n",
       "    .dataframe thead th {\n",
       "        text-align: right;\n",
       "    }\n",
       "</style>\n",
       "<table border=\"1\" class=\"dataframe\">\n",
       "  <thead>\n",
       "    <tr style=\"text-align: right;\">\n",
       "      <th></th>\n",
       "      <th>word</th>\n",
       "      <th>count</th>\n",
       "      <th>word_rank</th>\n",
       "    </tr>\n",
       "  </thead>\n",
       "  <tbody>\n",
       "    <tr>\n",
       "      <th>0</th>\n",
       "      <td>the</td>\n",
       "      <td>11041</td>\n",
       "      <td>1.0</td>\n",
       "    </tr>\n",
       "    <tr>\n",
       "      <th>1</th>\n",
       "      <td>and</td>\n",
       "      <td>8107</td>\n",
       "      <td>2.0</td>\n",
       "    </tr>\n",
       "    <tr>\n",
       "      <th>2</th>\n",
       "      <td>i</td>\n",
       "      <td>7511</td>\n",
       "      <td>3.0</td>\n",
       "    </tr>\n",
       "    <tr>\n",
       "      <th>3</th>\n",
       "      <td>to</td>\n",
       "      <td>6565</td>\n",
       "      <td>4.0</td>\n",
       "    </tr>\n",
       "    <tr>\n",
       "      <th>4</th>\n",
       "      <td>a</td>\n",
       "      <td>5498</td>\n",
       "      <td>5.0</td>\n",
       "    </tr>\n",
       "  </tbody>\n",
       "</table>\n",
       "</div>"
      ],
      "text/plain": [
       "  word  count  word_rank\n",
       "0  the  11041        1.0\n",
       "1  and   8107        2.0\n",
       "2    i   7511        3.0\n",
       "3   to   6565        4.0\n",
       "4    a   5498        5.0"
      ]
     },
     "execution_count": 5,
     "metadata": {},
     "output_type": "execute_result"
    }
   ],
   "source": [
    "words = pd.DataFrame(words_freq, columns = ['word', 'count'])\n",
    "words['word_rank'] = words['count'].rank(ascending = False)\n",
    "words.head()"
   ]
  },
  {
   "cell_type": "code",
   "execution_count": 6,
   "metadata": {},
   "outputs": [
    {
     "data": {
      "image/png": "[encoded data removed]",
      "text/plain": [
       "<Figure size 576x432 with 1 Axes>"
      ]
     },
     "metadata": {
      "needs_background": "light"
     },
     "output_type": "display_data"
    }
   ],
   "source": [
    "import matplotlib.pyplot as plt\n",
    "%matplotlib inline\n",
    "plt.figure(figsize=(8, 6))\n",
    "plt.plot(words['word_rank'], words['count'], color='g', linestyle='dashed', marker = 'o',linewidth=2,alpha=0.5)\n",
    "plt.xlabel('Word Rank')\n",
    "plt.ylabel('Word count')\n",
    "plt.title('Word counts vs word rank')\n",
    "plt.grid()"
   ]
  },
  {
   "cell_type": "code",
   "execution_count": 7,
   "metadata": {},
   "outputs": [
    {
     "data": {
      "text/plain": [
       "[u'the',\n",
       " u'and',\n",
       " u'i',\n",
       " u'to',\n",
       " u'a',\n",
       " u'was',\n",
       " u'it',\n",
       " u'of',\n",
       " u'for',\n",
       " u'in',\n",
       " u'my',\n",
       " u'is',\n",
       " u'that',\n",
       " u'they',\n",
       " u'this',\n",
       " u'we',\n",
       " u'you',\n",
       " u'with',\n",
       " u't',\n",
       " u'on',\n",
       " u'not',\n",
       " u'have',\n",
       " u'but',\n",
       " u'had',\n",
       " u'me',\n",
       " u'at',\n",
       " u's',\n",
       " u'so',\n",
       " u'were',\n",
       " u'are',\n",
       " u'be',\n",
       " u'place',\n",
       " u'food',\n",
       " u'there',\n",
       " u'as',\n",
       " u'he',\n",
       " u'if',\n",
       " u'all',\n",
       " u'when',\n",
       " u'out',\n",
       " u'would',\n",
       " u'service',\n",
       " u'get',\n",
       " u'our',\n",
       " u'she',\n",
       " u'back',\n",
       " u'one',\n",
       " u'up',\n",
       " u'time',\n",
       " u'from',\n",
       " u'very',\n",
       " u'an',\n",
       " u'just',\n",
       " u'their',\n",
       " u'here',\n",
       " u'no',\n",
       " u'will',\n",
       " u'great',\n",
       " u'like',\n",
       " u'good',\n",
       " u'go',\n",
       " u'about',\n",
       " u'them',\n",
       " u'or',\n",
       " u'can',\n",
       " u'what',\n",
       " u'your',\n",
       " u'us',\n",
       " u'been',\n",
       " u'do',\n",
       " u'never',\n",
       " u'because',\n",
       " u'only',\n",
       " u'don',\n",
       " u'even',\n",
       " u'after',\n",
       " u'by',\n",
       " u'which',\n",
       " u'did',\n",
       " u'got',\n",
       " u'said',\n",
       " u'more',\n",
       " u'her',\n",
       " u'really',\n",
       " u'told',\n",
       " u'also',\n",
       " u'could',\n",
       " u'some',\n",
       " u'other',\n",
       " u'then',\n",
       " u'went',\n",
       " u've',\n",
       " u'over',\n",
       " u'has',\n",
       " u'well',\n",
       " u'didn',\n",
       " u'again',\n",
       " u'm',\n",
       " u'first',\n",
       " u'best',\n",
       " u'people',\n",
       " u'staff',\n",
       " u'who',\n",
       " u'going',\n",
       " u'came',\n",
       " u'order',\n",
       " u'make',\n",
       " u'any',\n",
       " u'know',\n",
       " u'ordered',\n",
       " u'day',\n",
       " u'ever',\n",
       " u'restaurant',\n",
       " u'how',\n",
       " u'asked',\n",
       " u'off',\n",
       " u'customer',\n",
       " u'am',\n",
       " u'always',\n",
       " u'too',\n",
       " u'come',\n",
       " u'his',\n",
       " u'take',\n",
       " u'took',\n",
       " u'than',\n",
       " u'minutes',\n",
       " u'made',\n",
       " u'experience',\n",
       " u'before',\n",
       " u'try',\n",
       " u'give',\n",
       " u'love',\n",
       " u'car',\n",
       " u'new']"
      ]
     },
     "execution_count": 7,
     "metadata": {},
     "output_type": "execute_result"
    }
   ],
   "source": [
    "stop_words_list_max = words['word'][words['count'] > 250].values.tolist() ##threshold = 250\n",
    "stop_words_list_max"
   ]
  },
  {
   "cell_type": "code",
   "execution_count": 8,
   "metadata": {},
   "outputs": [
    {
     "data": {
      "text/plain": [
       "134"
      ]
     },
     "execution_count": 8,
     "metadata": {},
     "output_type": "execute_result"
    }
   ],
   "source": [
    "len(stop_words_list_max)"
   ]
  },
  {
   "cell_type": "code",
   "execution_count": 9,
   "metadata": {},
   "outputs": [
    {
     "data": {
      "text/html": [
       "<div>\n",
       "<style scoped>\n",
       "    .dataframe tbody tr th:only-of-type {\n",
       "        vertical-align: middle;\n",
       "    }\n",
       "\n",
       "    .dataframe tbody tr th {\n",
       "        vertical-align: top;\n",
       "    }\n",
       "\n",
       "    .dataframe thead th {\n",
       "        text-align: right;\n",
       "    }\n",
       "</style>\n",
       "<table border=\"1\" class=\"dataframe\">\n",
       "  <thead>\n",
       "    <tr style=\"text-align: right;\">\n",
       "      <th></th>\n",
       "      <th>word</th>\n",
       "      <th>count</th>\n",
       "      <th>word_rank</th>\n",
       "    </tr>\n",
       "  </thead>\n",
       "  <tbody>\n",
       "    <tr>\n",
       "      <th>0</th>\n",
       "      <td>now</td>\n",
       "      <td>250</td>\n",
       "      <td>1.0</td>\n",
       "    </tr>\n",
       "    <tr>\n",
       "      <th>1</th>\n",
       "      <td>want</td>\n",
       "      <td>249</td>\n",
       "      <td>2.0</td>\n",
       "    </tr>\n",
       "    <tr>\n",
       "      <th>2</th>\n",
       "      <td>called</td>\n",
       "      <td>247</td>\n",
       "      <td>3.0</td>\n",
       "    </tr>\n",
       "    <tr>\n",
       "      <th>3</th>\n",
       "      <td>definitely</td>\n",
       "      <td>246</td>\n",
       "      <td>4.0</td>\n",
       "    </tr>\n",
       "    <tr>\n",
       "      <th>4</th>\n",
       "      <td>work</td>\n",
       "      <td>243</td>\n",
       "      <td>5.0</td>\n",
       "    </tr>\n",
       "  </tbody>\n",
       "</table>\n",
       "</div>"
      ],
      "text/plain": [
       "         word  count  word_rank\n",
       "0         now    250        1.0\n",
       "1        want    249        2.0\n",
       "2      called    247        3.0\n",
       "3  definitely    246        4.0\n",
       "4        work    243        5.0"
      ]
     },
     "execution_count": 9,
     "metadata": {},
     "output_type": "execute_result"
    }
   ],
   "source": [
    "vec_max = CountVectorizer(analyzer = \"word\", tokenizer = None, preprocessor = None, \n",
    "                          token_pattern = u\"(?u)\\\\b\\\\w+\\\\b\", \n",
    "                          stop_words = stop_words_list_max, max_features = 100000) \n",
    "train_data_features_max = vec_max.fit_transform(df['clean_text'])\n",
    "sum_words_max = train_data_features_max.sum(axis = 0)\n",
    "words_freq_max = [(word, sum_words_max[0, idx]) for word, idx in vec_max.vocabulary_.items()]\n",
    "words_freq_max = sorted(words_freq_max, key = lambda x: x[1], reverse =True)\n",
    "words_max = pd.DataFrame(words_freq_max, columns = ['word', 'count'])\n",
    "words_max['word_rank'] = words_max['count'].rank(ascending = False)\n",
    "words_max.head()"
   ]
  },
  {
   "cell_type": "code",
   "execution_count": 10,
   "metadata": {},
   "outputs": [
    {
     "data": {
      "image/png": "[encoded data removed]",
      "text/plain": [
       "<Figure size 576x432 with 1 Axes>"
      ]
     },
     "metadata": {
      "needs_background": "light"
     },
     "output_type": "display_data"
    }
   ],
   "source": [
    "plt.figure(figsize=(8, 6))\n",
    "plt.plot(words_max['word_rank'], words_max['count'], color='g', linestyle='dashed', \n",
    "         marker = 'o',linewidth=2,alpha=0.5)\n",
    "plt.xlabel('Word Rank')\n",
    "plt.ylabel('Word count')\n",
    "plt.title('Word counts vs word rank after stop words with max_freq = 250')\n",
    "plt.grid()"
   ]
  },
  {
   "cell_type": "code",
   "execution_count": 11,
   "metadata": {},
   "outputs": [
    {
     "data": {
      "image/png": "[encoded data removed]",
      "text/plain": [
       "<Figure size 576x432 with 1 Axes>"
      ]
     },
     "metadata": {
      "needs_background": "light"
     },
     "output_type": "display_data"
    }
   ],
   "source": [
    "##threshold = 50\n",
    "stop_words_list_min = words['word'][words['count'] > 50].values.tolist()\n",
    "vec_min = CountVectorizer(analyzer = \"word\", tokenizer = None, preprocessor = None, \n",
    "                          token_pattern = u\"(?u)\\\\b\\\\w+\\\\b\", \n",
    "                          stop_words = stop_words_list_min, max_features = 100000) \n",
    "train_data_features_min = vec_min.fit_transform(df['clean_text'])\n",
    "sum_words_min = train_data_features_min.sum(axis = 0)\n",
    "words_freq_min = [(word, sum_words_min[0, idx]) for word, idx in vec_min.vocabulary_.items()]\n",
    "words_freq_min = sorted(words_freq_min, key = lambda x: x[1], reverse =True)\n",
    "words_min = pd.DataFrame(words_freq_min, columns = ['word', 'count'])\n",
    "words_min['word_rank'] = words_min['count'].rank(ascending = False)\n",
    "plt.figure(figsize=(8, 6))\n",
    "plt.plot(words_min['word_rank'], words_min['count'], color='g', \n",
    "         linestyle='dashed', marker = 'o',linewidth=2,alpha=0.5)\n",
    "plt.xlabel('Word Rank')\n",
    "plt.ylabel('Word count')\n",
    "plt.title('Word counts vs word rank after stop words with min_freq = 50')\n",
    "plt.grid()"
   ]
  },
  {
   "cell_type": "code",
   "execution_count": 12,
   "metadata": {},
   "outputs": [
    {
     "data": {
      "text/plain": [
       "561"
      ]
     },
     "execution_count": 12,
     "metadata": {},
     "output_type": "execute_result"
    }
   ],
   "source": [
    "#stop_words_list_min\n",
    "len(stop_words_list_min)"
   ]
  },
  {
   "cell_type": "markdown",
   "metadata": {},
   "source": [
    "Set threshold = 250"
   ]
  },
  {
   "cell_type": "markdown",
   "metadata": {},
   "source": [
    "Part 2 use max frequency"
   ]
  },
  {
   "cell_type": "code",
   "execution_count": 13,
   "metadata": {},
   "outputs": [],
   "source": [
    "#from sklearn.metrics.pairwise import cosine_similarity\n",
    "max_array = train_data_features_max.toarray() ##bag_of_words threshold = 250\n",
    "query = vec_max.transform(['Horrible customer service']).toarray()"
   ]
  },
  {
   "cell_type": "code",
   "execution_count": 14,
   "metadata": {},
   "outputs": [],
   "source": [
    "def cos_distance(a, b):\n",
    "    return 1.0 * np.dot(a, b.T) / (np.linalg.norm(a) * np.linalg.norm(b))\n",
    "cos_sim = np.zeros(2000,)\n",
    "for i in range(2000):\n",
    "    cos_sim[i] = cos_distance(max_array[i], query)"
   ]
  },
  {
   "cell_type": "code",
   "execution_count": 15,
   "metadata": {},
   "outputs": [
    {
     "name": "stdout",
     "output_type": "stream",
     "text": [
      "Service was horrible came with a major attitude. Payed 30 for lasagna and was no where worth it. Won't ever be going back and will NEVER recommend this place. was treated absolutely horrible. Horrible.\n",
      "cosine distance score: 0.6882472016116852\n",
      "\n",
      "HORRIBLE HORRIBLE HORRIBLE!!! AVOID AT ALL COSTS!!!\n",
      "\n",
      "I had some work done at Swing Shift Auto and I was helped by Keith. He was very arrogant and had little time for me. I just needed new brake discs and pads. I was overcharged, the repairs took TWO DAYS, and when I got home i noticed that the discs had NOT been replaced, only the pads!!!!\n",
      "\n",
      "TOTAL RIPOFFF!!! NEVER GO HERE, PLEASE!!!\n",
      "cosine distance score: 0.4743416490252569\n",
      "\n",
      "Horrible service, horrible customer service, and horrible quality of service!  Do not waste your time or money using this company for your pool needs.  Dan (602)363-8267 broke my pool filtration system and left it in a nonworking condition.  He will not repair the issue he caused, and told me to go somewhere else.  \n",
      "\n",
      "Save yourself the hassle, there are plenty of other quality pool companies out there.  \n",
      "\n",
      "Take care!\n",
      "cosine distance score: 0.4472135954999579\n",
      "\n",
      "I was in there a few weeks ago, the lady who took my order DENE was horrible....not only did she give me the wrong change but had a terrible attitude and also put in my order wrong not to mention it looked as if she was hungover\n",
      "If I could give this a negative star I would...what a horrible representation of this place\n",
      "cosine distance score: 0.41702882811414954\n",
      "\n",
      "Horrible experience! Got there at 1 am and the front desk worker wasn't there. The lights were turned off so I called with the after hours phone. After 10 minutes, someone let us in and we stood at the counter and he finally walked up, then told us we couldn't check in for an hour because the computer was down. Finally got to our room 2 hours later! Horrible experience!\n",
      "cosine distance score: 0.35355339059327373\n",
      "\n"
     ]
    }
   ],
   "source": [
    "df['cosim'] = cos_sim\n",
    "df_disc = df.sort_values(by = ['cosim'], ascending = False)\n",
    "for i in range(5):\n",
    "    text = df_disc.iloc[i]['text']\n",
    "    dis = df_disc.iloc[i]['cosim']\n",
    "    print(text + '\\n' + 'cosine distance score: ' + str(dis) +'\\n')"
   ]
  },
  {
   "cell_type": "code",
   "execution_count": 16,
   "metadata": {},
   "outputs": [
    {
     "data": {
      "text/html": [
       "<div>\n",
       "<style scoped>\n",
       "    .dataframe tbody tr th:only-of-type {\n",
       "        vertical-align: middle;\n",
       "    }\n",
       "\n",
       "    .dataframe tbody tr th {\n",
       "        vertical-align: top;\n",
       "    }\n",
       "\n",
       "    .dataframe thead th {\n",
       "        text-align: right;\n",
       "    }\n",
       "</style>\n",
       "<table border=\"1\" class=\"dataframe\">\n",
       "  <thead>\n",
       "    <tr style=\"text-align: right;\">\n",
       "      <th></th>\n",
       "      <th>text</th>\n",
       "      <th>stars</th>\n",
       "      <th>clean_text</th>\n",
       "      <th>cosim</th>\n",
       "    </tr>\n",
       "  </thead>\n",
       "  <tbody>\n",
       "    <tr>\n",
       "      <th>729</th>\n",
       "      <td>Service was horrible came with a major attitud...</td>\n",
       "      <td>1</td>\n",
       "      <td>Service was horrible came with a major attitud...</td>\n",
       "      <td>0.688247</td>\n",
       "    </tr>\n",
       "    <tr>\n",
       "      <th>479</th>\n",
       "      <td>HORRIBLE HORRIBLE HORRIBLE!!! AVOID AT ALL COS...</td>\n",
       "      <td>1</td>\n",
       "      <td>HORRIBLE HORRIBLE HORRIBLE    AVOID AT ALL COS...</td>\n",
       "      <td>0.474342</td>\n",
       "    </tr>\n",
       "    <tr>\n",
       "      <th>90</th>\n",
       "      <td>Horrible service, horrible customer service, a...</td>\n",
       "      <td>1</td>\n",
       "      <td>Horrible service  horrible customer service  a...</td>\n",
       "      <td>0.447214</td>\n",
       "    </tr>\n",
       "    <tr>\n",
       "      <th>1961</th>\n",
       "      <td>I was in there a few weeks ago, the lady who t...</td>\n",
       "      <td>1</td>\n",
       "      <td>I was in there a few weeks ago  the lady who t...</td>\n",
       "      <td>0.417029</td>\n",
       "    </tr>\n",
       "    <tr>\n",
       "      <th>1763</th>\n",
       "      <td>Horrible experience! Got there at 1 am and the...</td>\n",
       "      <td>1</td>\n",
       "      <td>Horrible experience  Got there at   am and the...</td>\n",
       "      <td>0.353553</td>\n",
       "    </tr>\n",
       "    <tr>\n",
       "      <th>1840</th>\n",
       "      <td>Horrible service....What a mess upon ordering ...</td>\n",
       "      <td>1</td>\n",
       "      <td>Horrible service    What a mess upon ordering ...</td>\n",
       "      <td>0.333333</td>\n",
       "    </tr>\n",
       "    <tr>\n",
       "      <th>1354</th>\n",
       "      <td>The food is okay but the service is horrible. ...</td>\n",
       "      <td>1</td>\n",
       "      <td>The food is okay but the service is horrible  ...</td>\n",
       "      <td>0.333333</td>\n",
       "    </tr>\n",
       "    <tr>\n",
       "      <th>1131</th>\n",
       "      <td>I don't understand how people pay money to eat...</td>\n",
       "      <td>1</td>\n",
       "      <td>I don t understand how people pay money to eat...</td>\n",
       "      <td>0.324443</td>\n",
       "    </tr>\n",
       "    <tr>\n",
       "      <th>1842</th>\n",
       "      <td>Horrible service! Food was not great either. O...</td>\n",
       "      <td>1</td>\n",
       "      <td>Horrible service  Food was not great either  O...</td>\n",
       "      <td>0.316228</td>\n",
       "    </tr>\n",
       "    <tr>\n",
       "      <th>866</th>\n",
       "      <td>They have no concept of making an authentic sh...</td>\n",
       "      <td>1</td>\n",
       "      <td>They have no concept of making an authentic sh...</td>\n",
       "      <td>0.316228</td>\n",
       "    </tr>\n",
       "    <tr>\n",
       "      <th>887</th>\n",
       "      <td>Horrible service. I was treated so poorly by t...</td>\n",
       "      <td>1</td>\n",
       "      <td>Horrible service  I was treated so poorly by t...</td>\n",
       "      <td>0.316228</td>\n",
       "    </tr>\n",
       "    <tr>\n",
       "      <th>1110</th>\n",
       "      <td>This place is horrible. I ask the guy to make ...</td>\n",
       "      <td>1</td>\n",
       "      <td>This place is horrible  I ask the guy to make ...</td>\n",
       "      <td>0.301511</td>\n",
       "    </tr>\n",
       "    <tr>\n",
       "      <th>1808</th>\n",
       "      <td>Rogers ...\\n\\n1) is over priced\\n2) have horri...</td>\n",
       "      <td>1</td>\n",
       "      <td>Rogers         is over priced    have horrible...</td>\n",
       "      <td>0.301511</td>\n",
       "    </tr>\n",
       "    <tr>\n",
       "      <th>1646</th>\n",
       "      <td>Would give this place negative stars if I coul...</td>\n",
       "      <td>1</td>\n",
       "      <td>Would give this place negative stars if I coul...</td>\n",
       "      <td>0.301511</td>\n",
       "    </tr>\n",
       "    <tr>\n",
       "      <th>1764</th>\n",
       "      <td>Ok. So food is alright. But the service was ho...</td>\n",
       "      <td>1</td>\n",
       "      <td>Ok  So food is alright  But the service was ho...</td>\n",
       "      <td>0.288675</td>\n",
       "    </tr>\n",
       "    <tr>\n",
       "      <th>335</th>\n",
       "      <td>All of the staff here were so kind to me and m...</td>\n",
       "      <td>5</td>\n",
       "      <td>All of the staff here were so kind to me and m...</td>\n",
       "      <td>0.277350</td>\n",
       "    </tr>\n",
       "    <tr>\n",
       "      <th>446</th>\n",
       "      <td>Service was ok, food was horrible and there ar...</td>\n",
       "      <td>1</td>\n",
       "      <td>Service was ok  food was horrible and there ar...</td>\n",
       "      <td>0.277350</td>\n",
       "    </tr>\n",
       "    <tr>\n",
       "      <th>1373</th>\n",
       "      <td>This buffet sucks. Horrible variety, no sides,...</td>\n",
       "      <td>1</td>\n",
       "      <td>This buffet sucks  Horrible variety  no sides ...</td>\n",
       "      <td>0.277350</td>\n",
       "    </tr>\n",
       "    <tr>\n",
       "      <th>1032</th>\n",
       "      <td>Horrible service! I walked in with two bags an...</td>\n",
       "      <td>1</td>\n",
       "      <td>Horrible service  I walked in with two bags an...</td>\n",
       "      <td>0.272166</td>\n",
       "    </tr>\n",
       "    <tr>\n",
       "      <th>1465</th>\n",
       "      <td>Payless Rent-A-Car is the most horrible place ...</td>\n",
       "      <td>1</td>\n",
       "      <td>Payless Rent A Car is the most horrible place ...</td>\n",
       "      <td>0.270914</td>\n",
       "    </tr>\n",
       "    <tr>\n",
       "      <th>787</th>\n",
       "      <td>Horrible. Worst service ever.  Waitstaff was l...</td>\n",
       "      <td>1</td>\n",
       "      <td>Horrible  Worst service ever   Waitstaff was l...</td>\n",
       "      <td>0.267261</td>\n",
       "    </tr>\n",
       "    <tr>\n",
       "      <th>1723</th>\n",
       "      <td>The service is horrible. It's not bad inside, ...</td>\n",
       "      <td>1</td>\n",
       "      <td>The service is horrible  It s not bad inside  ...</td>\n",
       "      <td>0.267261</td>\n",
       "    </tr>\n",
       "    <tr>\n",
       "      <th>1520</th>\n",
       "      <td>HORRIBLE customer service. When you call you'l...</td>\n",
       "      <td>1</td>\n",
       "      <td>HORRIBLE customer service  When you call you l...</td>\n",
       "      <td>0.267261</td>\n",
       "    </tr>\n",
       "    <tr>\n",
       "      <th>838</th>\n",
       "      <td>Horrible snobby service. Took forever. Just wa...</td>\n",
       "      <td>1</td>\n",
       "      <td>Horrible snobby service  Took forever  Just wa...</td>\n",
       "      <td>0.250000</td>\n",
       "    </tr>\n",
       "    <tr>\n",
       "      <th>55</th>\n",
       "      <td>Walmart pick up was really horrible.\\nI receiv...</td>\n",
       "      <td>1</td>\n",
       "      <td>Walmart pick up was really horrible  I receive...</td>\n",
       "      <td>0.235702</td>\n",
       "    </tr>\n",
       "    <tr>\n",
       "      <th>161</th>\n",
       "      <td>Used to love this place but recently had the w...</td>\n",
       "      <td>1</td>\n",
       "      <td>Used to love this place but recently had the w...</td>\n",
       "      <td>0.235702</td>\n",
       "    </tr>\n",
       "    <tr>\n",
       "      <th>1335</th>\n",
       "      <td>Horrible attorney.  Defend yourself before hir...</td>\n",
       "      <td>1</td>\n",
       "      <td>Horrible attorney   Defend yourself before hir...</td>\n",
       "      <td>0.235702</td>\n",
       "    </tr>\n",
       "    <tr>\n",
       "      <th>1669</th>\n",
       "      <td>Horrible service! Tried to reservation, I was ...</td>\n",
       "      <td>1</td>\n",
       "      <td>Horrible service  Tried to reservation  I was ...</td>\n",
       "      <td>0.229416</td>\n",
       "    </tr>\n",
       "    <tr>\n",
       "      <th>279</th>\n",
       "      <td>Horrible. Absolutely horrible. Seems like they...</td>\n",
       "      <td>1</td>\n",
       "      <td>Horrible  Absolutely horrible  Seems like they...</td>\n",
       "      <td>0.223607</td>\n",
       "    </tr>\n",
       "    <tr>\n",
       "      <th>651</th>\n",
       "      <td>Horrible service and the food is just as bad. ...</td>\n",
       "      <td>1</td>\n",
       "      <td>Horrible service and the food is just as bad  ...</td>\n",
       "      <td>0.223607</td>\n",
       "    </tr>\n",
       "    <tr>\n",
       "      <th>642</th>\n",
       "      <td>Horrible horrible place! I don't understand wh...</td>\n",
       "      <td>1</td>\n",
       "      <td>Horrible horrible place  I don t understand wh...</td>\n",
       "      <td>0.220863</td>\n",
       "    </tr>\n",
       "    <tr>\n",
       "      <th>1403</th>\n",
       "      <td>I was just telling my family about this place ...</td>\n",
       "      <td>1</td>\n",
       "      <td>I was just telling my family about this place ...</td>\n",
       "      <td>0.213201</td>\n",
       "    </tr>\n",
       "    <tr>\n",
       "      <th>342</th>\n",
       "      <td>everytime we go to this Dennys we have nothing...</td>\n",
       "      <td>1</td>\n",
       "      <td>everytime we go to this Dennys we have nothing...</td>\n",
       "      <td>0.213201</td>\n",
       "    </tr>\n",
       "    <tr>\n",
       "      <th>1114</th>\n",
       "      <td>Thanks for making my shity Monday more shity. ...</td>\n",
       "      <td>1</td>\n",
       "      <td>Thanks for making my shity Monday more shity  ...</td>\n",
       "      <td>0.213201</td>\n",
       "    </tr>\n",
       "    <tr>\n",
       "      <th>881</th>\n",
       "      <td>The guy who gave me a massage smelled like cig...</td>\n",
       "      <td>1</td>\n",
       "      <td>The guy who gave me a massage smelled like cig...</td>\n",
       "      <td>0.208514</td>\n",
       "    </tr>\n",
       "    <tr>\n",
       "      <th>1342</th>\n",
       "      <td>The worst dog grooming I have ever had stay aw...</td>\n",
       "      <td>1</td>\n",
       "      <td>The worst dog grooming I have ever had stay aw...</td>\n",
       "      <td>0.204124</td>\n",
       "    </tr>\n",
       "    <tr>\n",
       "      <th>73</th>\n",
       "      <td>Thanksgiving buffet horrible 64$ for some frie...</td>\n",
       "      <td>1</td>\n",
       "      <td>Thanksgiving buffet horrible     for some frie...</td>\n",
       "      <td>0.200000</td>\n",
       "    </tr>\n",
       "    <tr>\n",
       "      <th>883</th>\n",
       "      <td>Wish I could give it negative stars\\n\\nUnbelie...</td>\n",
       "      <td>1</td>\n",
       "      <td>Wish I could give it negative stars  Unbelieva...</td>\n",
       "      <td>0.196116</td>\n",
       "    </tr>\n",
       "    <tr>\n",
       "      <th>1784</th>\n",
       "      <td>I will never go back to this bar or invite any...</td>\n",
       "      <td>1</td>\n",
       "      <td>I will never go back to this bar or invite any...</td>\n",
       "      <td>0.196116</td>\n",
       "    </tr>\n",
       "    <tr>\n",
       "      <th>9</th>\n",
       "      <td>Horrible customer service!  Been with them ove...</td>\n",
       "      <td>1</td>\n",
       "      <td>Horrible customer service   Been with them ove...</td>\n",
       "      <td>0.192450</td>\n",
       "    </tr>\n",
       "    <tr>\n",
       "      <th>732</th>\n",
       "      <td>Wow this food was really horrible. All meats w...</td>\n",
       "      <td>1</td>\n",
       "      <td>Wow this food was really horrible  All meats w...</td>\n",
       "      <td>0.188982</td>\n",
       "    </tr>\n",
       "    <tr>\n",
       "      <th>1930</th>\n",
       "      <td>I used to love this place, but NEVER order fro...</td>\n",
       "      <td>1</td>\n",
       "      <td>I used to love this place  but NEVER order fro...</td>\n",
       "      <td>0.179605</td>\n",
       "    </tr>\n",
       "    <tr>\n",
       "      <th>1852</th>\n",
       "      <td>Horrible please do not go here I went here las...</td>\n",
       "      <td>1</td>\n",
       "      <td>Horrible please do not go here I went here las...</td>\n",
       "      <td>0.176777</td>\n",
       "    </tr>\n",
       "    <tr>\n",
       "      <th>1169</th>\n",
       "      <td>I waited about a week to write this review to ...</td>\n",
       "      <td>1</td>\n",
       "      <td>I waited about a week to write this review to ...</td>\n",
       "      <td>0.176471</td>\n",
       "    </tr>\n",
       "    <tr>\n",
       "      <th>1793</th>\n",
       "      <td>Possibly the worst Japanese AYCE I have ever b...</td>\n",
       "      <td>1</td>\n",
       "      <td>Possibly the worst Japanese AYCE I have ever b...</td>\n",
       "      <td>0.173785</td>\n",
       "    </tr>\n",
       "    <tr>\n",
       "      <th>577</th>\n",
       "      <td>Zollie is still not cooperating nor helping to...</td>\n",
       "      <td>1</td>\n",
       "      <td>Zollie is still not cooperating nor helping to...</td>\n",
       "      <td>0.169031</td>\n",
       "    </tr>\n",
       "    <tr>\n",
       "      <th>801</th>\n",
       "      <td>I have been here multiple times with my friend...</td>\n",
       "      <td>1</td>\n",
       "      <td>I have been here multiple times with my friend...</td>\n",
       "      <td>0.164399</td>\n",
       "    </tr>\n",
       "    <tr>\n",
       "      <th>72</th>\n",
       "      <td>For a place that has been in business for year...</td>\n",
       "      <td>1</td>\n",
       "      <td>For a place that has been in business for year...</td>\n",
       "      <td>0.164399</td>\n",
       "    </tr>\n",
       "    <tr>\n",
       "      <th>1705</th>\n",
       "      <td>The menu is extremely limited and the service ...</td>\n",
       "      <td>1</td>\n",
       "      <td>The menu is extremely limited and the service ...</td>\n",
       "      <td>0.160128</td>\n",
       "    </tr>\n",
       "    <tr>\n",
       "      <th>340</th>\n",
       "      <td>Went in to return an item the greeter was frie...</td>\n",
       "      <td>1</td>\n",
       "      <td>Went in to return an item the greeter was frie...</td>\n",
       "      <td>0.160128</td>\n",
       "    </tr>\n",
       "    <tr>\n",
       "      <th>253</th>\n",
       "      <td>Absolutely horrible first experience. Ordered ...</td>\n",
       "      <td>1</td>\n",
       "      <td>Absolutely horrible first experience  Ordered ...</td>\n",
       "      <td>0.158114</td>\n",
       "    </tr>\n",
       "    <tr>\n",
       "      <th>652</th>\n",
       "      <td>I also wish I could give them zero stars. \\n\\n...</td>\n",
       "      <td>1</td>\n",
       "      <td>I also wish I could give them zero stars    Pl...</td>\n",
       "      <td>0.156174</td>\n",
       "    </tr>\n",
       "    <tr>\n",
       "      <th>1201</th>\n",
       "      <td>Eat here at your own risk.  This place is horr...</td>\n",
       "      <td>1</td>\n",
       "      <td>Eat here at your own risk   This place is horr...</td>\n",
       "      <td>0.156174</td>\n",
       "    </tr>\n",
       "    <tr>\n",
       "      <th>245</th>\n",
       "      <td>Worst hotel in Vegas, I'd rather sleep in my c...</td>\n",
       "      <td>1</td>\n",
       "      <td>Worst hotel in Vegas  I d rather sleep in my c...</td>\n",
       "      <td>0.152499</td>\n",
       "    </tr>\n",
       "    <tr>\n",
       "      <th>983</th>\n",
       "      <td>Horrible experience!! Beware using this compan...</td>\n",
       "      <td>1</td>\n",
       "      <td>Horrible experience   Beware using this compan...</td>\n",
       "      <td>0.147442</td>\n",
       "    </tr>\n",
       "    <tr>\n",
       "      <th>32</th>\n",
       "      <td>Horrible experience and most awful customer se...</td>\n",
       "      <td>1</td>\n",
       "      <td>Horrible experience and most awful customer se...</td>\n",
       "      <td>0.144338</td>\n",
       "    </tr>\n",
       "    <tr>\n",
       "      <th>1240</th>\n",
       "      <td>I would give it -2 stars. I was waiting for my...</td>\n",
       "      <td>1</td>\n",
       "      <td>I would give it    stars  I was waiting for my...</td>\n",
       "      <td>0.140028</td>\n",
       "    </tr>\n",
       "    <tr>\n",
       "      <th>448</th>\n",
       "      <td>I went into this location because my sister ha...</td>\n",
       "      <td>1</td>\n",
       "      <td>I went into this location because my sister ha...</td>\n",
       "      <td>0.137361</td>\n",
       "    </tr>\n",
       "    <tr>\n",
       "      <th>1371</th>\n",
       "      <td>Horrible so far we booked two nights in the Pa...</td>\n",
       "      <td>1</td>\n",
       "      <td>Horrible so far we booked two nights in the Pa...</td>\n",
       "      <td>0.136083</td>\n",
       "    </tr>\n",
       "    <tr>\n",
       "      <th>1379</th>\n",
       "      <td>Service is horrible. I have specific dietary n...</td>\n",
       "      <td>1</td>\n",
       "      <td>Service is horrible  I have specific dietary n...</td>\n",
       "      <td>0.134840</td>\n",
       "    </tr>\n",
       "  </tbody>\n",
       "</table>\n",
       "</div>"
      ],
      "text/plain": [
       "                                                   text  stars  \\\n",
       "729   Service was horrible came with a major attitud...      1   \n",
       "479   HORRIBLE HORRIBLE HORRIBLE!!! AVOID AT ALL COS...      1   \n",
       "90    Horrible service, horrible customer service, a...      1   \n",
       "1961  I was in there a few weeks ago, the lady who t...      1   \n",
       "1763  Horrible experience! Got there at 1 am and the...      1   \n",
       "1840  Horrible service....What a mess upon ordering ...      1   \n",
       "1354  The food is okay but the service is horrible. ...      1   \n",
       "1131  I don't understand how people pay money to eat...      1   \n",
       "1842  Horrible service! Food was not great either. O...      1   \n",
       "866   They have no concept of making an authentic sh...      1   \n",
       "887   Horrible service. I was treated so poorly by t...      1   \n",
       "1110  This place is horrible. I ask the guy to make ...      1   \n",
       "1808  Rogers ...\\n\\n1) is over priced\\n2) have horri...      1   \n",
       "1646  Would give this place negative stars if I coul...      1   \n",
       "1764  Ok. So food is alright. But the service was ho...      1   \n",
       "335   All of the staff here were so kind to me and m...      5   \n",
       "446   Service was ok, food was horrible and there ar...      1   \n",
       "1373  This buffet sucks. Horrible variety, no sides,...      1   \n",
       "1032  Horrible service! I walked in with two bags an...      1   \n",
       "1465  Payless Rent-A-Car is the most horrible place ...      1   \n",
       "787   Horrible. Worst service ever.  Waitstaff was l...      1   \n",
       "1723  The service is horrible. It's not bad inside, ...      1   \n",
       "1520  HORRIBLE customer service. When you call you'l...      1   \n",
       "838   Horrible snobby service. Took forever. Just wa...      1   \n",
       "55    Walmart pick up was really horrible.\\nI receiv...      1   \n",
       "161   Used to love this place but recently had the w...      1   \n",
       "1335  Horrible attorney.  Defend yourself before hir...      1   \n",
       "1669  Horrible service! Tried to reservation, I was ...      1   \n",
       "279   Horrible. Absolutely horrible. Seems like they...      1   \n",
       "651   Horrible service and the food is just as bad. ...      1   \n",
       "642   Horrible horrible place! I don't understand wh...      1   \n",
       "1403  I was just telling my family about this place ...      1   \n",
       "342   everytime we go to this Dennys we have nothing...      1   \n",
       "1114  Thanks for making my shity Monday more shity. ...      1   \n",
       "881   The guy who gave me a massage smelled like cig...      1   \n",
       "1342  The worst dog grooming I have ever had stay aw...      1   \n",
       "73    Thanksgiving buffet horrible 64$ for some frie...      1   \n",
       "883   Wish I could give it negative stars\\n\\nUnbelie...      1   \n",
       "1784  I will never go back to this bar or invite any...      1   \n",
       "9     Horrible customer service!  Been with them ove...      1   \n",
       "732   Wow this food was really horrible. All meats w...      1   \n",
       "1930  I used to love this place, but NEVER order fro...      1   \n",
       "1852  Horrible please do not go here I went here las...      1   \n",
       "1169  I waited about a week to write this review to ...      1   \n",
       "1793  Possibly the worst Japanese AYCE I have ever b...      1   \n",
       "577   Zollie is still not cooperating nor helping to...      1   \n",
       "801   I have been here multiple times with my friend...      1   \n",
       "72    For a place that has been in business for year...      1   \n",
       "1705  The menu is extremely limited and the service ...      1   \n",
       "340   Went in to return an item the greeter was frie...      1   \n",
       "253   Absolutely horrible first experience. Ordered ...      1   \n",
       "652   I also wish I could give them zero stars. \\n\\n...      1   \n",
       "1201  Eat here at your own risk.  This place is horr...      1   \n",
       "245   Worst hotel in Vegas, I'd rather sleep in my c...      1   \n",
       "983   Horrible experience!! Beware using this compan...      1   \n",
       "32    Horrible experience and most awful customer se...      1   \n",
       "1240  I would give it -2 stars. I was waiting for my...      1   \n",
       "448   I went into this location because my sister ha...      1   \n",
       "1371  Horrible so far we booked two nights in the Pa...      1   \n",
       "1379  Service is horrible. I have specific dietary n...      1   \n",
       "\n",
       "                                             clean_text     cosim  \n",
       "729   Service was horrible came with a major attitud...  0.688247  \n",
       "479   HORRIBLE HORRIBLE HORRIBLE    AVOID AT ALL COS...  0.474342  \n",
       "90    Horrible service  horrible customer service  a...  0.447214  \n",
       "1961  I was in there a few weeks ago  the lady who t...  0.417029  \n",
       "1763  Horrible experience  Got there at   am and the...  0.353553  \n",
       "1840  Horrible service    What a mess upon ordering ...  0.333333  \n",
       "1354  The food is okay but the service is horrible  ...  0.333333  \n",
       "1131  I don t understand how people pay money to eat...  0.324443  \n",
       "1842  Horrible service  Food was not great either  O...  0.316228  \n",
       "866   They have no concept of making an authentic sh...  0.316228  \n",
       "887   Horrible service  I was treated so poorly by t...  0.316228  \n",
       "1110  This place is horrible  I ask the guy to make ...  0.301511  \n",
       "1808  Rogers         is over priced    have horrible...  0.301511  \n",
       "1646  Would give this place negative stars if I coul...  0.301511  \n",
       "1764  Ok  So food is alright  But the service was ho...  0.288675  \n",
       "335   All of the staff here were so kind to me and m...  0.277350  \n",
       "446   Service was ok  food was horrible and there ar...  0.277350  \n",
       "1373  This buffet sucks  Horrible variety  no sides ...  0.277350  \n",
       "1032  Horrible service  I walked in with two bags an...  0.272166  \n",
       "1465  Payless Rent A Car is the most horrible place ...  0.270914  \n",
       "787   Horrible  Worst service ever   Waitstaff was l...  0.267261  \n",
       "1723  The service is horrible  It s not bad inside  ...  0.267261  \n",
       "1520  HORRIBLE customer service  When you call you l...  0.267261  \n",
       "838   Horrible snobby service  Took forever  Just wa...  0.250000  \n",
       "55    Walmart pick up was really horrible  I receive...  0.235702  \n",
       "161   Used to love this place but recently had the w...  0.235702  \n",
       "1335  Horrible attorney   Defend yourself before hir...  0.235702  \n",
       "1669  Horrible service  Tried to reservation  I was ...  0.229416  \n",
       "279   Horrible  Absolutely horrible  Seems like they...  0.223607  \n",
       "651   Horrible service and the food is just as bad  ...  0.223607  \n",
       "642   Horrible horrible place  I don t understand wh...  0.220863  \n",
       "1403  I was just telling my family about this place ...  0.213201  \n",
       "342   everytime we go to this Dennys we have nothing...  0.213201  \n",
       "1114  Thanks for making my shity Monday more shity  ...  0.213201  \n",
       "881   The guy who gave me a massage smelled like cig...  0.208514  \n",
       "1342  The worst dog grooming I have ever had stay aw...  0.204124  \n",
       "73    Thanksgiving buffet horrible     for some frie...  0.200000  \n",
       "883   Wish I could give it negative stars  Unbelieva...  0.196116  \n",
       "1784  I will never go back to this bar or invite any...  0.196116  \n",
       "9     Horrible customer service   Been with them ove...  0.192450  \n",
       "732   Wow this food was really horrible  All meats w...  0.188982  \n",
       "1930  I used to love this place  but NEVER order fro...  0.179605  \n",
       "1852  Horrible please do not go here I went here las...  0.176777  \n",
       "1169  I waited about a week to write this review to ...  0.176471  \n",
       "1793  Possibly the worst Japanese AYCE I have ever b...  0.173785  \n",
       "577   Zollie is still not cooperating nor helping to...  0.169031  \n",
       "801   I have been here multiple times with my friend...  0.164399  \n",
       "72    For a place that has been in business for year...  0.164399  \n",
       "1705  The menu is extremely limited and the service ...  0.160128  \n",
       "340   Went in to return an item the greeter was frie...  0.160128  \n",
       "253   Absolutely horrible first experience  Ordered ...  0.158114  \n",
       "652   I also wish I could give them zero stars    Pl...  0.156174  \n",
       "1201  Eat here at your own risk   This place is horr...  0.156174  \n",
       "245   Worst hotel in Vegas  I d rather sleep in my c...  0.152499  \n",
       "983   Horrible experience   Beware using this compan...  0.147442  \n",
       "32    Horrible experience and most awful customer se...  0.144338  \n",
       "1240  I would give it    stars  I was waiting for my...  0.140028  \n",
       "448   I went into this location because my sister ha...  0.137361  \n",
       "1371  Horrible so far we booked two nights in the Pa...  0.136083  \n",
       "1379  Service is horrible  I have specific dietary n...  0.134840  "
      ]
     },
     "execution_count": 16,
     "metadata": {},
     "output_type": "execute_result"
    }
   ],
   "source": [
    "df_disc[:60]"
   ]
  },
  {
   "cell_type": "code",
   "execution_count": 17,
   "metadata": {},
   "outputs": [
    {
     "data": {
      "text/plain": [
       "54"
      ]
     },
     "execution_count": 17,
     "metadata": {},
     "output_type": "execute_result"
    }
   ],
   "source": [
    "len(df_disc['cosim'][df_disc['cosim'] >= 0.15])"
   ]
  },
  {
   "cell_type": "markdown",
   "metadata": {},
   "source": [
    "Part 3 Logistic regression"
   ]
  },
  {
   "cell_type": "code",
   "execution_count": 18,
   "metadata": {},
   "outputs": [],
   "source": [
    "from sklearn.model_selection import train_test_split\n",
    "from sklearn.metrics import accuracy_score\n",
    "from sklearn.metrics import confusion_matrix\n",
    "X_train, X_test, y_train, y_test = train_test_split(train_data_features_max, df['stars'], \n",
    "                                                    test_size = 0.1, random_state = 42)"
   ]
  },
  {
   "cell_type": "code",
   "execution_count": 19,
   "metadata": {},
   "outputs": [],
   "source": [
    "import warnings\n",
    "warnings.filterwarnings('ignore')\n",
    "from sklearn.linear_model import LogisticRegression\n",
    "logreg = LogisticRegression(class_weight = 'balanced')\n",
    "logreg.fit(X_train, y_train)\n",
    "threshold = 0.5\n",
    "predicts = np.where(logreg.predict_proba(X_test)[:, 1] > threshold, 5, 1)"
   ]
  },
  {
   "cell_type": "code",
   "execution_count": 20,
   "metadata": {},
   "outputs": [
    {
     "data": {
      "text/plain": [
       "0.9994444444444445"
      ]
     },
     "execution_count": 20,
     "metadata": {},
     "output_type": "execute_result"
    }
   ],
   "source": [
    "accuracy_score(np.where(logreg.predict_proba(X_train)[:, 1] > threshold, 5, 1), y_train)  \n",
    "###train set accuracy score"
   ]
  },
  {
   "cell_type": "code",
   "execution_count": 21,
   "metadata": {},
   "outputs": [
    {
     "data": {
      "text/plain": [
       "0.925"
      ]
     },
     "execution_count": 21,
     "metadata": {},
     "output_type": "execute_result"
    }
   ],
   "source": [
    "accuracy_score(predicts, y_test) ###test set accuracy score"
   ]
  },
  {
   "cell_type": "markdown",
   "metadata": {},
   "source": [
    "Plot histogram of scores on training data"
   ]
  },
  {
   "cell_type": "code",
   "execution_count": 22,
   "metadata": {},
   "outputs": [],
   "source": [
    "pos_score = logreg.predict_proba(X_train)[:, 1][np.where(logreg.predict_proba(X_train)[:, 1] > threshold)]\n",
    "neg_score = logreg.predict_proba(X_train)[:, 0][np.where(logreg.predict_proba(X_train)[:, 0] <= threshold)]"
   ]
  },
  {
   "cell_type": "code",
   "execution_count": 23,
   "metadata": {},
   "outputs": [],
   "source": [
    "pos_train = logreg.predict_proba(X_train)[:, 1][np.where(y_train[logreg.predict_proba(X_train)[:, 1] > threshold]== 5)]\n",
    "neg_train = logreg.predict_proba(X_train)[:, 0][np.where(y_train[logreg.predict_proba(X_train)[:, 1] <= threshold]== 1)]"
   ]
  },
  {
   "cell_type": "code",
   "execution_count": 24,
   "metadata": {},
   "outputs": [
    {
     "data": {
      "image/png": "[encoded data removed]",
      "text/plain": [
       "<Figure size 432x288 with 1 Axes>"
      ]
     },
     "metadata": {
      "needs_background": "light"
     },
     "output_type": "display_data"
    }
   ],
   "source": [
    "plt.hist(pos_train, bins = 100, color = 'g', alpha = 0.5, density = False, rwidth = 0.9, label = 'positive score')\n",
    "plt.hist(neg_train, bins = 100, color = 'b', alpha = 0.5, density = False, rwidth = 0.9, label = 'negative score')\n",
    "plt.xlim(0, 1.0)\n",
    "plt.xlabel('Predicted score')\n",
    "plt.ylabel('Count of predictions')\n",
    "plt.title('Histogram of Predicted Scores')\n",
    "plt.legend(loc = 'center')\n",
    "plt.show()"
   ]
  },
  {
   "cell_type": "code",
   "execution_count": 25,
   "metadata": {},
   "outputs": [
    {
     "data": {
      "image/png": "[encoded data removed]",
      "text/plain": [
       "<Figure size 432x288 with 1 Axes>"
      ]
     },
     "metadata": {
      "needs_background": "light"
     },
     "output_type": "display_data"
    }
   ],
   "source": [
    "import seaborn as sns\n",
    "sns.distplot(pos_score, color = 'g', label = 'positive score')\n",
    "sns.distplot(neg_score, color = 'b', label = 'negative score')\n",
    "plt.xlim(-0.05, 1.05)\n",
    "plt.xlabel('Predicted score')\n",
    "plt.ylabel('Count of predictions')\n",
    "plt.title('Histogram of Predicted Scores')\n",
    "plt.legend(loc = 'center')\n",
    "plt.show()"
   ]
  },
  {
   "cell_type": "code",
   "execution_count": 26,
   "metadata": {},
   "outputs": [
    {
     "data": {
      "image/png": "[encoded data removed]",
      "text/plain": [
       "<Figure size 432x288 with 1 Axes>"
      ]
     },
     "metadata": {
      "needs_background": "light"
     },
     "output_type": "display_data"
    }
   ],
   "source": [
    "plt.hist(pos_score, bins = 100, color = 'g', alpha = 0.5, density = False, rwidth = 0.9, label = 'positive score')\n",
    "plt.hist(neg_score, bins = 100, color = 'b', alpha = 0.5, density = False, rwidth = 0.9, label = 'negative score')\n",
    "plt.xlim(0, 1.0)\n",
    "plt.xlabel('Predicted score')\n",
    "plt.ylabel('Count of predictions')\n",
    "plt.title('Histogram of Predicted Scores')\n",
    "plt.legend(loc = 'center')\n",
    "plt.show()"
   ]
  },
  {
   "cell_type": "code",
   "execution_count": 27,
   "metadata": {},
   "outputs": [
    {
     "data": {
      "text/plain": [
       "0.9988888888888889"
      ]
     },
     "execution_count": 27,
     "metadata": {},
     "output_type": "execute_result"
    }
   ],
   "source": [
    "threshold_n = 0.4\n",
    "predicts_n = np.where(logreg.predict_proba(X_test)[:, 1] > threshold_n, 5, 1)\n",
    "accuracy_score(np.where(logreg.predict_proba(X_train)[:, 1] > threshold_n, 5, 1), y_train)  \n",
    "###train set accuracy score"
   ]
  },
  {
   "cell_type": "code",
   "execution_count": 28,
   "metadata": {},
   "outputs": [
    {
     "data": {
      "text/plain": [
       "0.93"
      ]
     },
     "execution_count": 28,
     "metadata": {},
     "output_type": "execute_result"
    }
   ],
   "source": [
    "accuracy_score(predicts_n, y_test) ###test set accuracy score"
   ]
  },
  {
   "cell_type": "code",
   "execution_count": 29,
   "metadata": {},
   "outputs": [
    {
     "data": {
      "text/plain": [
       "<matplotlib.legend.Legend at 0x1a25b1e210>"
      ]
     },
     "execution_count": 29,
     "metadata": {},
     "output_type": "execute_result"
    },
    {
     "data": {
      "image/png": "[encoded data removed]",
      "text/plain": [
       "<Figure size 432x288 with 1 Axes>"
      ]
     },
     "metadata": {
      "needs_background": "light"
     },
     "output_type": "display_data"
    }
   ],
   "source": [
    "from sklearn.metrics import roc_curve, auc\n",
    "y_scores = logreg.decision_function(X_test)\n",
    "fpr, tpr, _ = roc_curve(y_test, y_scores, pos_label = 5)\n",
    "plt.plot(fpr, tpr, linewidth = 2, color = 'darkorange', label = 'ROC curve (area = %0.2f)' % auc(fpr, tpr))\n",
    "plt.plot([0, 1], [0, 1], 'k--')\n",
    "plt.axis([-0.005, 1.015, 0, 1.015])\n",
    "plt.xticks(np.arange(0, 1.25, 0.25))\n",
    "plt.xlabel('False Positive Rate')\n",
    "plt.ylabel('True Positive Rate')\n",
    "plt.legend(loc = 'lower right')"
   ]
  },
  {
   "cell_type": "code",
   "execution_count": 30,
   "metadata": {},
   "outputs": [
    {
     "data": {
      "text/plain": [
       "0.23469387755102042"
      ]
     },
     "execution_count": 30,
     "metadata": {},
     "output_type": "execute_result"
    }
   ],
   "source": [
    "fpr[np.argmax(tpr)]"
   ]
  },
  {
   "cell_type": "code",
   "execution_count": 31,
   "metadata": {},
   "outputs": [],
   "source": [
    "test = np.arange(0.1, 1.0, 0.1)\n",
    "train_score = []\n",
    "test_score = []\n",
    "for i in test:\n",
    "    predicts = np.where(logreg.predict_proba(X_test)[:, 1] > i, 5, 1)\n",
    "    train_score.append(accuracy_score(np.where(logreg.predict_proba(X_train)[:, 1] > i, 5, 1), y_train))  \n",
    "    ###train set accuracy score\n",
    "    test_score.append(accuracy_score(predicts, y_test)) ###test set accuracy score"
   ]
  },
  {
   "cell_type": "code",
   "execution_count": 32,
   "metadata": {},
   "outputs": [
    {
     "data": {
      "text/plain": [
       "([0.9411111111111111,\n",
       "  0.9888888888888889,\n",
       "  0.9955555555555555,\n",
       "  0.9988888888888889,\n",
       "  0.9994444444444445,\n",
       "  1.0,\n",
       "  0.9983333333333333,\n",
       "  0.9916666666666667,\n",
       "  0.9472222222222222],\n",
       " [0.86, 0.88, 0.915, 0.93, 0.925, 0.9, 0.895, 0.86, 0.79])"
      ]
     },
     "execution_count": 32,
     "metadata": {},
     "output_type": "execute_result"
    }
   ],
   "source": [
    "train_score, test_score"
   ]
  }
 ],
 "metadata": {
  "kernelspec": {
   "display_name": "Python 2",
   "language": "python",
   "name": "python2"
  },
  "language_info": {
   "codemirror_mode": {
    "name": "ipython",
    "version": 2
   },
   "file_extension": ".py",
   "mimetype": "text/x-python",
   "name": "python",
   "nbconvert_exporter": "python",
   "pygments_lexer": "ipython2",
   "version": "2.7.15"
  }
 },
 "nbformat": 4,
 "nbformat_minor": 2
}
